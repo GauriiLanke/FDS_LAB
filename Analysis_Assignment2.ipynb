{
 "cells": [
  {
   "cell_type": "code",
   "execution_count": null,
   "id": "e2276856",
   "metadata": {},
   "outputs": [],
   "source": [
    "import pandas as pd\n",
    "import matplotlib.pyplot as plt\n",
    "#Hospital Dataset\n",
    "data = {\n",
    "    'Patient': ['Gauri', 'Payal', 'Shreyas', 'Parth', 'Sakshi', 'Fiza'],  #Qualitative\n",
    "    'Gender': ['Female', 'Female', 'Male', 'Male', 'Female', 'Female'], #Qualitative\n",
    "    'Age': [34, 28, 45, 52, 39, 60], #Qualitative\n",
    "    'Department': ['Cardiology', 'Neurology', 'Orthopedics', 'Pediatrics', 'Cardiology', 'Neurology'],#Qualitative\n",
    "    'Admission Days': [5, 3, 7, 2, 4, 6], #Quantitative\n",
    "    'Diagnosis': ['Hypertension', 'Migraine', 'Fracture', 'Flu', 'Migrane', 'Stroke'],#Qualitative\n",
    "    'Discharged': ['Yes', 'Yes', 'No', 'Yes', 'No', 'Yes']#Qualitative\n",
    "}\n",
    "df=pd.DataFrame(data)"
   ]
  },
  {
   "cell_type": "code",
   "execution_count": 9,
   "id": "7d722fd5",
   "metadata": {},
   "outputs": [
    {
     "data": {
      "text/html": [
       "<div>\n",
       "<style scoped>\n",
       "    .dataframe tbody tr th:only-of-type {\n",
       "        vertical-align: middle;\n",
       "    }\n",
       "\n",
       "    .dataframe tbody tr th {\n",
       "        vertical-align: top;\n",
       "    }\n",
       "\n",
       "    .dataframe thead th {\n",
       "        text-align: right;\n",
       "    }\n",
       "</style>\n",
       "<table border=\"1\" class=\"dataframe\">\n",
       "  <thead>\n",
       "    <tr style=\"text-align: right;\">\n",
       "      <th></th>\n",
       "      <th>Patient</th>\n",
       "      <th>Gender</th>\n",
       "      <th>Age</th>\n",
       "      <th>Department</th>\n",
       "      <th>Admission Days</th>\n",
       "      <th>Diagnosis</th>\n",
       "      <th>Discharged</th>\n",
       "    </tr>\n",
       "  </thead>\n",
       "  <tbody>\n",
       "    <tr>\n",
       "      <th>0</th>\n",
       "      <td>Gauri</td>\n",
       "      <td>Female</td>\n",
       "      <td>34</td>\n",
       "      <td>Cardiology</td>\n",
       "      <td>5</td>\n",
       "      <td>Hypertension</td>\n",
       "      <td>Yes</td>\n",
       "    </tr>\n",
       "    <tr>\n",
       "      <th>1</th>\n",
       "      <td>Payal</td>\n",
       "      <td>Female</td>\n",
       "      <td>28</td>\n",
       "      <td>Neurology</td>\n",
       "      <td>3</td>\n",
       "      <td>Migraine</td>\n",
       "      <td>Yes</td>\n",
       "    </tr>\n",
       "    <tr>\n",
       "      <th>2</th>\n",
       "      <td>Shreyas</td>\n",
       "      <td>Male</td>\n",
       "      <td>45</td>\n",
       "      <td>Orthopedics</td>\n",
       "      <td>7</td>\n",
       "      <td>Fracture</td>\n",
       "      <td>No</td>\n",
       "    </tr>\n",
       "    <tr>\n",
       "      <th>3</th>\n",
       "      <td>Parth</td>\n",
       "      <td>Male</td>\n",
       "      <td>52</td>\n",
       "      <td>Pediatrics</td>\n",
       "      <td>2</td>\n",
       "      <td>Flu</td>\n",
       "      <td>Yes</td>\n",
       "    </tr>\n",
       "    <tr>\n",
       "      <th>4</th>\n",
       "      <td>Sakshi</td>\n",
       "      <td>Female</td>\n",
       "      <td>39</td>\n",
       "      <td>Cardiology</td>\n",
       "      <td>4</td>\n",
       "      <td>Migrane</td>\n",
       "      <td>No</td>\n",
       "    </tr>\n",
       "  </tbody>\n",
       "</table>\n",
       "</div>"
      ],
      "text/plain": [
       "   Patient  Gender  Age   Department  Admission Days     Diagnosis Discharged\n",
       "0    Gauri  Female   34   Cardiology               5  Hypertension        Yes\n",
       "1    Payal  Female   28    Neurology               3      Migraine        Yes\n",
       "2  Shreyas    Male   45  Orthopedics               7      Fracture         No\n",
       "3    Parth    Male   52   Pediatrics               2           Flu        Yes\n",
       "4   Sakshi  Female   39   Cardiology               4       Migrane         No"
      ]
     },
     "execution_count": 9,
     "metadata": {},
     "output_type": "execute_result"
    }
   ],
   "source": [
    "df.head()"
   ]
  },
  {
   "cell_type": "code",
   "execution_count": 16,
   "id": "efa3577c",
   "metadata": {},
   "outputs": [
    {
     "name": "stdout",
     "output_type": "stream",
     "text": [
      "Qualitative Analysis:\n",
      "Gender\n",
      "Female    3\n",
      "Male      3\n",
      "Name: count, dtype: int64\n",
      "Department\n",
      "Cardiology     2\n",
      "Neurology      2\n",
      "Orthopedics    1\n",
      "Pediatrics     1\n",
      "Name: count, dtype: int64\n",
      "Diagnosis\n",
      "Hypertension    1\n",
      "Migraine        1\n",
      "Fracture        1\n",
      "Flu             1\n",
      "Migrane         1\n",
      "Stroke          1\n",
      "Name: count, dtype: int64\n"
     ]
    },
    {
     "data": {
      "image/png": "[encoded data removed]",
      "text/plain": [
       "<Figure size 640x480 with 1 Axes>"
      ]
     },
     "metadata": {},
     "output_type": "display_data"
    },
    {
     "data": {
      "image/png": "[encoded data removed]",
      "text/plain": [
       "<Figure size 640x480 with 1 Axes>"
      ]
     },
     "metadata": {},
     "output_type": "display_data"
    }
   ],
   "source": [
    "#Qualitative Analysis\n",
    "print(\"Qualitative Analysis:\")\n",
    "print(df['Gender'].value_counts()) #frequency of gender\n",
    "print(df['Department'].value_counts()) #frequency of department\n",
    "print(df['Diagnosis'].value_counts()) #frequency of diagnosis\n",
    "\n",
    "df['Discharged'].value_counts().plot(kind='bar', title='Discharged Patients', color=['red', 'lightpink'])\n",
    "plt.title('Discharged Patients Analysis')\n",
    "plt.xlabel('Discharged')\n",
    "plt.ylabel('Count')\n",
    "plt.show()\n",
    "\n",
    "df['Gender'].value_counts().plot(kind='bar', color=['pink', 'lightblue'])\n",
    "plt.title(\"Gender Distribution\")\n",
    "plt.xlabel(\"Gender\")\n",
    "plt.ylabel(\"Count\")\n",
    "plt.show()"
   ]
  }
 ],
 "metadata": {
  "kernelspec": {
   "display_name": "Python 3",
   "language": "python",
   "name": "python3"
  },
  "language_info": {
   "codemirror_mode": {
    "name": "ipython",
    "version": 3
   },
   "file_extension": ".py",
   "mimetype": "text/x-python",
   "name": "python",
   "nbconvert_exporter": "python",
   "pygments_lexer": "ipython3",
   "version": "3.13.5"
  }
 },
 "nbformat": 4,
 "nbformat_minor": 5
}
