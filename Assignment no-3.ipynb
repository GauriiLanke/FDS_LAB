{
 "cells": [
  {
   "cell_type": "code",
   "execution_count": null,
   "id": "fccef561",
   "metadata": {},
   "outputs": [],
   "source": [
    "#Assignment No-3 : Assignment based on calculation of cendral tendency\n",
    "#Lanke Gauri Arvind TY-B 151"
   ]
  },
  {
   "cell_type": "code",
   "execution_count": 5,
   "id": "c9d8f5fb",
   "metadata": {},
   "outputs": [],
   "source": [
    "#import necessary libraries\n",
    "import pandas as pd\n",
    "import statistics as stats"
   ]
  },
  {
   "cell_type": "code",
   "execution_count": 6,
   "id": "33df989a",
   "metadata": {},
   "outputs": [],
   "source": [
    "#Create a DataFrame\n",
    "data={'Student':['S1','S2','S3','S4','S5','S6','S7','S8','S9','S10'],\n",
    "    'Marks':[78,65,80,92,85,75,88,90,70,85],}\n",
    "df=pd.DataFrame(data)\n",
    "\n",
    "#create student_marks csv file\n",
    "df.to_csv('student_marks.csv',index=False)"
   ]
  },
  {
   "cell_type": "code",
   "execution_count": 7,
   "id": "c810db09",
   "metadata": {},
   "outputs": [
    {
     "name": "stdout",
     "output_type": "stream",
     "text": [
      "  Student  Marks\n",
      "0      S1     78\n",
      "1      S2     65\n",
      "2      S3     80\n",
      "3      S4     92\n",
      "4      S5     85\n",
      "5      S6     75\n",
      "6      S7     88\n",
      "7      S8     90\n",
      "8      S9     70\n",
      "9     S10     85\n"
     ]
    }
   ],
   "source": [
    "#Read the CSV file\n",
    "df=pd.read_csv('student_marks.csv')\n",
    "print(df)"
   ]
  },
  {
   "cell_type": "code",
   "execution_count": 10,
   "id": "dbd81568",
   "metadata": {},
   "outputs": [
    {
     "name": "stdout",
     "output_type": "stream",
     "text": [
      "Mean of marks: 80.8\n"
     ]
    }
   ],
   "source": [
    "#calculate mean without using library functions\n",
    "\n",
    "def calculate_mean(marks):\n",
    "    mean=sum(marks)/len(marks)\n",
    "    return mean\n",
    "\n",
    "print(\"Mean of marks:\",calculate_mean(df['Marks']))\n"
   ]
  },
  {
   "cell_type": "code",
   "execution_count": 11,
   "id": "c5b7ef36",
   "metadata": {},
   "outputs": [
    {
     "name": "stdout",
     "output_type": "stream",
     "text": [
      "Median of marks: 82.5\n"
     ]
    }
   ],
   "source": [
    "#calculate median without using library functions\n",
    "\n",
    "def calculate_median(marks):\n",
    "    sorted_data = sorted(marks)\n",
    "    n = len(sorted_data)\n",
    "    mid = n // 2\n",
    "    if n % 2 == 0:\n",
    "        median = (sorted_data[mid - 1] + sorted_data[mid]) / 2\n",
    "    else:\n",
    "        median = sorted_data[mid]\n",
    "    return median\n",
    "\n",
    "print(\"Median of marks:\",calculate_median(df['Marks']))"
   ]
  },
  {
   "cell_type": "code",
   "execution_count": 13,
   "id": "c97990c3",
   "metadata": {},
   "outputs": [
    {
     "name": "stdout",
     "output_type": "stream",
     "text": [
      "Mode of marks: [85]\n"
     ]
    }
   ],
   "source": [
    "#calculate mode without using library functions\n",
    "\n",
    "def calculate_mode(marks):\n",
    "    freq = {}\n",
    "    for val in marks:\n",
    "        freq[val] = freq.get(val, 0) + 1\n",
    "    max_freq = max(freq.values())\n",
    "    mode = [key for key, value in freq.items() if value == max_freq]\n",
    "    return mode\n",
    "\n",
    "print(\"Mode of marks:\",calculate_mode(df['Marks']))"
   ]
  },
  {
   "cell_type": "code",
   "execution_count": 14,
   "id": "2aa62520",
   "metadata": {},
   "outputs": [
    {
     "name": "stdout",
     "output_type": "stream",
     "text": [
      "Using Inbuilt Functions:\n",
      "Mean of marks: 80.8\n",
      "Median of marks: 82.5\n",
      "Mode of marks: 85\n"
     ]
    }
   ],
   "source": [
    "#calculate mean, median, mode using built-in functions\n",
    "\n",
    "mean_value=stats.mean(df['Marks'])\n",
    "median_value=stats.median(df['Marks'])\n",
    "mode_value=stats.mode(df['Marks'])\n",
    "\n",
    "print(\"Using Inbuilt Functions:\")\n",
    "print(\"Mean of marks:\",mean_value)\n",
    "print(\"Median of marks:\",median_value)\n",
    "print(\"Mode of marks:\",mode_value)"
   ]
  }
 ],
 "metadata": {
  "kernelspec": {
   "display_name": "Python 3",
   "language": "python",
   "name": "python3"
  },
  "language_info": {
   "codemirror_mode": {
    "name": "ipython",
    "version": 3
   },
   "file_extension": ".py",
   "mimetype": "text/x-python",
   "name": "python",
   "nbconvert_exporter": "python",
   "pygments_lexer": "ipython3",
   "version": "3.13.7"
  }
 },
 "nbformat": 4,
 "nbformat_minor": 5
}
