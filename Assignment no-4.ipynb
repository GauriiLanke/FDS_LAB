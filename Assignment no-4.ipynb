{
 "cells": [
  {
   "cell_type": "code",
   "execution_count": 1,
   "id": "2fcc0f0a",
   "metadata": {},
   "outputs": [],
   "source": [
    "#Assignment No-4 : Assignment based on calculation of Measures of Variance\n",
    "#Lanke Gauri Arvind TY-B 151"
   ]
  },
  {
   "cell_type": "code",
   "execution_count": 2,
   "id": "025b4848",
   "metadata": {},
   "outputs": [],
   "source": [
    "#import the libraries\n",
    "import pandas as pd\n",
    "import statistics as stats"
   ]
  },
  {
   "cell_type": "code",
   "execution_count": 3,
   "id": "f9aa0292",
   "metadata": {},
   "outputs": [],
   "source": [
    "#Create a DataFrame\n",
    "data={'Student':['S1','S2','S3','S4','S5','S6','S7','S8','S9','S10'],\n",
    "    'Marks':[78,65,80,92,85,75,88,90,70,85],}\n",
    "df=pd.DataFrame(data)\n",
    "\n",
    "#create student_marks csv file\n",
    "df.to_csv('student_marks_4.csv',index=False)"
   ]
  },
  {
   "cell_type": "code",
   "execution_count": 4,
   "id": "6169141a",
   "metadata": {},
   "outputs": [
    {
     "data": {
      "text/html": [
       "<div>\n",
       "<style scoped>\n",
       "    .dataframe tbody tr th:only-of-type {\n",
       "        vertical-align: middle;\n",
       "    }\n",
       "\n",
       "    .dataframe tbody tr th {\n",
       "        vertical-align: top;\n",
       "    }\n",
       "\n",
       "    .dataframe thead th {\n",
       "        text-align: right;\n",
       "    }\n",
       "</style>\n",
       "<table border=\"1\" class=\"dataframe\">\n",
       "  <thead>\n",
       "    <tr style=\"text-align: right;\">\n",
       "      <th></th>\n",
       "      <th>Student</th>\n",
       "      <th>Marks</th>\n",
       "    </tr>\n",
       "  </thead>\n",
       "  <tbody>\n",
       "    <tr>\n",
       "      <th>0</th>\n",
       "      <td>S1</td>\n",
       "      <td>78</td>\n",
       "    </tr>\n",
       "    <tr>\n",
       "      <th>1</th>\n",
       "      <td>S2</td>\n",
       "      <td>65</td>\n",
       "    </tr>\n",
       "    <tr>\n",
       "      <th>2</th>\n",
       "      <td>S3</td>\n",
       "      <td>80</td>\n",
       "    </tr>\n",
       "    <tr>\n",
       "      <th>3</th>\n",
       "      <td>S4</td>\n",
       "      <td>92</td>\n",
       "    </tr>\n",
       "    <tr>\n",
       "      <th>4</th>\n",
       "      <td>S5</td>\n",
       "      <td>85</td>\n",
       "    </tr>\n",
       "    <tr>\n",
       "      <th>5</th>\n",
       "      <td>S6</td>\n",
       "      <td>75</td>\n",
       "    </tr>\n",
       "    <tr>\n",
       "      <th>6</th>\n",
       "      <td>S7</td>\n",
       "      <td>88</td>\n",
       "    </tr>\n",
       "    <tr>\n",
       "      <th>7</th>\n",
       "      <td>S8</td>\n",
       "      <td>90</td>\n",
       "    </tr>\n",
       "    <tr>\n",
       "      <th>8</th>\n",
       "      <td>S9</td>\n",
       "      <td>70</td>\n",
       "    </tr>\n",
       "    <tr>\n",
       "      <th>9</th>\n",
       "      <td>S10</td>\n",
       "      <td>85</td>\n",
       "    </tr>\n",
       "  </tbody>\n",
       "</table>\n",
       "</div>"
      ],
      "text/plain": [
       "  Student  Marks\n",
       "0      S1     78\n",
       "1      S2     65\n",
       "2      S3     80\n",
       "3      S4     92\n",
       "4      S5     85\n",
       "5      S6     75\n",
       "6      S7     88\n",
       "7      S8     90\n",
       "8      S9     70\n",
       "9     S10     85"
      ]
     },
     "execution_count": 4,
     "metadata": {},
     "output_type": "execute_result"
    }
   ],
   "source": [
    "#read the CSV file\n",
    "df=pd.read_csv('student_marks_4.csv')\n",
    "df"
   ]
  },
  {
   "cell_type": "code",
   "execution_count": 5,
   "id": "43d7bc84",
   "metadata": {},
   "outputs": [
    {
     "name": "stdout",
     "output_type": "stream",
     "text": [
      "Range: 27\n"
     ]
    }
   ],
   "source": [
    "#calculate range \n",
    "def calculate_range(marks):\n",
    "    return max(marks) - min(marks)\n",
    "\n",
    "print(\"Range:\", calculate_range(df['Marks']))"
   ]
  },
  {
   "cell_type": "code",
   "execution_count": 6,
   "id": "4d101beb",
   "metadata": {},
   "outputs": [
    {
     "name": "stdout",
     "output_type": "stream",
     "text": [
      "Variance: 78.4\n"
     ]
    }
   ],
   "source": [
    "#calculate variance\n",
    "def calculate_variance(marks):\n",
    "    mean = sum(marks) / len(marks)\n",
    "    squared_diffs = [(x - mean) ** 2 for x in marks]\n",
    "    variance = sum(squared_diffs) / (len(marks) - 1) \n",
    "    return variance\n",
    "\n",
    "print(\"Variance:\", calculate_variance(df['Marks']))"
   ]
  },
  {
   "cell_type": "code",
   "execution_count": 7,
   "id": "7a77db84",
   "metadata": {},
   "outputs": [
    {
     "name": "stdout",
     "output_type": "stream",
     "text": [
      "Standard Deviation: 8.854377448471462\n"
     ]
    }
   ],
   "source": [
    "#calculate standard deviation\n",
    "def calculate_std_dev(marks):\n",
    "    variance = calculate_variance(marks)\n",
    "    std_dev = variance ** 0.5\n",
    "    return std_dev\n",
    "\n",
    "print(\"Standard Deviation:\", calculate_std_dev(df['Marks']))"
   ]
  },
  {
   "cell_type": "code",
   "execution_count": 8,
   "id": "aa02ee7a",
   "metadata": {},
   "outputs": [
    {
     "name": "stdout",
     "output_type": "stream",
     "text": [
      "Using Inbuilt Functions:\n",
      "Range of marks: 27\n",
      "Variance of marks: 78.4\n",
      "Standard Deviation of marks: 8.854377448471462\n"
     ]
    }
   ],
   "source": [
    "#calculate range, variance, and standard deviation using built-in functions\n",
    "\n",
    "range=max(df['Marks']) - min(df['Marks'])\n",
    "variance=stats.variance(df['Marks'])\n",
    "standard_deviation=stats.stdev(df['Marks'])\n",
    "\n",
    "print(\"Using Inbuilt Functions:\")\n",
    "print(\"Range of marks:\",range)\n",
    "print(\"Variance of marks:\",variance)\n",
    "print(\"Standard Deviation of marks:\",standard_deviation)"
   ]
  }
 ],
 "metadata": {
  "kernelspec": {
   "display_name": "Python 3",
   "language": "python",
   "name": "python3"
  },
  "language_info": {
   "codemirror_mode": {
    "name": "ipython",
    "version": 3
   },
   "file_extension": ".py",
   "mimetype": "text/x-python",
   "name": "python",
   "nbconvert_exporter": "python",
   "pygments_lexer": "ipython3",
   "version": "3.13.7"
  }
 },
 "nbformat": 4,
 "nbformat_minor": 5
}
