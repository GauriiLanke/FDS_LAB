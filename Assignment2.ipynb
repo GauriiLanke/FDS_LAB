{
 "cells": [
  {
   "cell_type": "code",
   "execution_count": 73,
   "id": "1f027868",
   "metadata": {},
   "outputs": [],
   "source": [
    "# Assignment 2A - Pandas Basics\n",
    "# Lanke Gauri Arvind\n",
    "# Roll No: 151"
   ]
  },
  {
   "cell_type": "code",
   "execution_count": 74,
   "id": "f4fb51a3",
   "metadata": {},
   "outputs": [],
   "source": [
    "#import pandas\n",
    "import pandas as pd"
   ]
  },
  {
   "cell_type": "code",
   "execution_count": 75,
   "id": "54c4ccaa",
   "metadata": {},
   "outputs": [
    {
     "name": "stdout",
     "output_type": "stream",
     "text": [
      "Series data:\n",
      "a     20\n",
      "b     40\n",
      "c     60\n",
      "d     80\n",
      "e    100\n",
      "dtype: int64\n",
      "Access single element: 80\n"
     ]
    }
   ],
   "source": [
    "#creating series\n",
    "s=pd.Series([20,40,60,80,100],index=['a','b','c','d','e'])\n",
    "print(\"Series data:\")\n",
    "print(s)\n",
    "print(\"Access single element:\",s['d']) #accessing single element"
   ]
  },
  {
   "cell_type": "code",
   "execution_count": 76,
   "id": "4ab04495",
   "metadata": {},
   "outputs": [
    {
     "data": {
      "text/plain": [
       "pandas.core.series.Series"
      ]
     },
     "execution_count": 76,
     "metadata": {},
     "output_type": "execute_result"
    }
   ],
   "source": [
    "type(s) # to check the type of s"
   ]
  },
  {
   "cell_type": "code",
   "execution_count": 77,
   "id": "d85dbcd3",
   "metadata": {},
   "outputs": [
    {
     "name": "stdout",
     "output_type": "stream",
     "text": [
      "Dataframe data:\n",
      "  Employee  Age  Salary   Location\n",
      "0    Gauri   21   50000  Kopargaon\n",
      "1    Payal   22   60000     Mumbai\n",
      "2  Shreyas   23   55000  Kopargaon\n",
      "3     Urvi   21   52000   Pohegaon\n",
      "4    Parth   22   58000     Shirdi\n",
      "\n",
      "Access single column:\n",
      " 0      Gauri\n",
      "1      Payal\n",
      "2    Shreyas\n",
      "3       Urvi\n",
      "4      Parth\n",
      "Name: Employee, dtype: object\n"
     ]
    }
   ],
   "source": [
    "#creating dataframe\n",
    "data=pd.DataFrame({\n",
    "    'Employee':['Gauri','Payal','Shreyas','Urvi','Parth'],\n",
    "    'Age':[21,22,23,21,22],\n",
    "    'Salary':[50000,60000,55000,52000,58000],\n",
    "    'Location':['Kopargaon','Mumbai','Kopargaon','Pohegaon','Shirdi']\n",
    "})\n",
    "df1=pd.DataFrame(data)\n",
    "print(\"Dataframe data:\")\n",
    "print(df1)\n",
    "print(\"\\nAccess single column:\\n\",df1['Employee']) #accessing single column"
   ]
  },
  {
   "cell_type": "code",
   "execution_count": 78,
   "id": "7a52be58",
   "metadata": {},
   "outputs": [
    {
     "data": {
      "text/plain": [
       "pandas.core.frame.DataFrame"
      ]
     },
     "execution_count": 78,
     "metadata": {},
     "output_type": "execute_result"
    }
   ],
   "source": [
    "type(df1) # to check the type of df"
   ]
  },
  {
   "cell_type": "code",
   "execution_count": 93,
   "id": "010d9985",
   "metadata": {},
   "outputs": [
    {
     "name": "stdout",
     "output_type": "stream",
     "text": [
      "<class 'pandas.core.frame.DataFrame'>\n",
      "RangeIndex: 254 entries, 0 to 253\n",
      "Data columns (total 9 columns):\n",
      " #   Column          Non-Null Count  Dtype  \n",
      "---  ------          --------------  -----  \n",
      " 0   Order ID        254 non-null    int64  \n",
      " 1   Date            254 non-null    object \n",
      " 2   Product         254 non-null    object \n",
      " 3   Price           254 non-null    float64\n",
      " 4   Quantity        254 non-null    float64\n",
      " 5   Purchase Type   254 non-null    object \n",
      " 6   Payment Method  254 non-null    object \n",
      " 7   Manager         254 non-null    object \n",
      " 8   City            254 non-null    object \n",
      "dtypes: float64(2), int64(1), object(6)\n",
      "memory usage: 18.0+ KB\n"
     ]
    }
   ],
   "source": [
    "#load dataset\n",
    "df=pd.read_csv('restaurant_sales.csv',header=0)\n",
    "df.info() # to get info about dataframe"
   ]
  },
  {
   "cell_type": "code",
   "execution_count": 94,
   "id": "5fc22f46",
   "metadata": {},
   "outputs": [
    {
     "data": {
      "text/html": [
       "<div>\n",
       "<style scoped>\n",
       "    .dataframe tbody tr th:only-of-type {\n",
       "        vertical-align: middle;\n",
       "    }\n",
       "\n",
       "    .dataframe tbody tr th {\n",
       "        vertical-align: top;\n",
       "    }\n",
       "\n",
       "    .dataframe thead th {\n",
       "        text-align: right;\n",
       "    }\n",
       "</style>\n",
       "<table border=\"1\" class=\"dataframe\">\n",
       "  <thead>\n",
       "    <tr style=\"text-align: right;\">\n",
       "      <th></th>\n",
       "      <th>Order ID</th>\n",
       "      <th>Date</th>\n",
       "      <th>Product</th>\n",
       "      <th>Price</th>\n",
       "      <th>Quantity</th>\n",
       "      <th>Purchase Type</th>\n",
       "      <th>Payment Method</th>\n",
       "      <th>Manager</th>\n",
       "      <th>City</th>\n",
       "    </tr>\n",
       "  </thead>\n",
       "  <tbody>\n",
       "    <tr>\n",
       "      <th>0</th>\n",
       "      <td>10452</td>\n",
       "      <td>07-11-2022</td>\n",
       "      <td>Fries</td>\n",
       "      <td>3.49</td>\n",
       "      <td>573.07</td>\n",
       "      <td>Online</td>\n",
       "      <td>Gift Card</td>\n",
       "      <td>Tom      Jackson</td>\n",
       "      <td>London</td>\n",
       "    </tr>\n",
       "    <tr>\n",
       "      <th>1</th>\n",
       "      <td>10453</td>\n",
       "      <td>07-11-2022</td>\n",
       "      <td>Beverages</td>\n",
       "      <td>2.95</td>\n",
       "      <td>745.76</td>\n",
       "      <td>Online</td>\n",
       "      <td>Gift Card</td>\n",
       "      <td>Pablo Perez</td>\n",
       "      <td>Madrid</td>\n",
       "    </tr>\n",
       "    <tr>\n",
       "      <th>2</th>\n",
       "      <td>10454</td>\n",
       "      <td>07-11-2022</td>\n",
       "      <td>Sides &amp; Other</td>\n",
       "      <td>4.99</td>\n",
       "      <td>200.40</td>\n",
       "      <td>In-store</td>\n",
       "      <td>Gift Card</td>\n",
       "      <td>Joao    Silva</td>\n",
       "      <td>Lisbon</td>\n",
       "    </tr>\n",
       "    <tr>\n",
       "      <th>3</th>\n",
       "      <td>10455</td>\n",
       "      <td>08-11-2022</td>\n",
       "      <td>Burgers</td>\n",
       "      <td>12.99</td>\n",
       "      <td>569.67</td>\n",
       "      <td>In-store</td>\n",
       "      <td>Credit Card</td>\n",
       "      <td>Walter Muller</td>\n",
       "      <td>Berlin</td>\n",
       "    </tr>\n",
       "    <tr>\n",
       "      <th>4</th>\n",
       "      <td>10456</td>\n",
       "      <td>08-11-2022</td>\n",
       "      <td>Chicken Sandwiches</td>\n",
       "      <td>9.95</td>\n",
       "      <td>201.01</td>\n",
       "      <td>In-store</td>\n",
       "      <td>Credit Card</td>\n",
       "      <td>Walter Muller</td>\n",
       "      <td>Berlin</td>\n",
       "    </tr>\n",
       "  </tbody>\n",
       "</table>\n",
       "</div>"
      ],
      "text/plain": [
       "   Order ID        Date             Product  Price  Quantity Purchase Type  \\\n",
       "0     10452  07-11-2022               Fries   3.49    573.07       Online    \n",
       "1     10453  07-11-2022           Beverages   2.95    745.76       Online    \n",
       "2     10454  07-11-2022       Sides & Other   4.99    200.40     In-store    \n",
       "3     10455  08-11-2022             Burgers  12.99    569.67     In-store    \n",
       "4     10456  08-11-2022  Chicken Sandwiches   9.95    201.01     In-store    \n",
       "\n",
       "  Payment Method             Manager    City  \n",
       "0      Gift Card    Tom      Jackson  London  \n",
       "1      Gift Card         Pablo Perez  Madrid  \n",
       "2      Gift Card       Joao    Silva  Lisbon  \n",
       "3    Credit Card       Walter Muller  Berlin  \n",
       "4    Credit Card       Walter Muller  Berlin  "
      ]
     },
     "execution_count": 94,
     "metadata": {},
     "output_type": "execute_result"
    }
   ],
   "source": [
    "df.head() # to print first 5 rows of dataframe"
   ]
  },
  {
   "cell_type": "code",
   "execution_count": 95,
   "id": "a760aa45",
   "metadata": {},
   "outputs": [
    {
     "data": {
      "text/html": [
       "<div>\n",
       "<style scoped>\n",
       "    .dataframe tbody tr th:only-of-type {\n",
       "        vertical-align: middle;\n",
       "    }\n",
       "\n",
       "    .dataframe tbody tr th {\n",
       "        vertical-align: top;\n",
       "    }\n",
       "\n",
       "    .dataframe thead th {\n",
       "        text-align: right;\n",
       "    }\n",
       "</style>\n",
       "<table border=\"1\" class=\"dataframe\">\n",
       "  <thead>\n",
       "    <tr style=\"text-align: right;\">\n",
       "      <th></th>\n",
       "      <th>Order ID</th>\n",
       "      <th>Date</th>\n",
       "      <th>Product</th>\n",
       "      <th>Price</th>\n",
       "      <th>Quantity</th>\n",
       "      <th>Purchase Type</th>\n",
       "      <th>Payment Method</th>\n",
       "      <th>Manager</th>\n",
       "      <th>City</th>\n",
       "    </tr>\n",
       "  </thead>\n",
       "  <tbody>\n",
       "    <tr>\n",
       "      <th>249</th>\n",
       "      <td>10709</td>\n",
       "      <td>28-12-2022</td>\n",
       "      <td>Sides &amp; Other</td>\n",
       "      <td>4.99</td>\n",
       "      <td>200.40</td>\n",
       "      <td>Drive-thru</td>\n",
       "      <td>Gift Card</td>\n",
       "      <td>Walter Muller</td>\n",
       "      <td>Berlin</td>\n",
       "    </tr>\n",
       "    <tr>\n",
       "      <th>250</th>\n",
       "      <td>10710</td>\n",
       "      <td>29-12-2022</td>\n",
       "      <td>Burgers</td>\n",
       "      <td>12.99</td>\n",
       "      <td>754.43</td>\n",
       "      <td>Drive-thru</td>\n",
       "      <td>Gift Card</td>\n",
       "      <td>Walter Muller</td>\n",
       "      <td>Berlin</td>\n",
       "    </tr>\n",
       "    <tr>\n",
       "      <th>251</th>\n",
       "      <td>10711</td>\n",
       "      <td>29-12-2022</td>\n",
       "      <td>Chicken Sandwiches</td>\n",
       "      <td>9.95</td>\n",
       "      <td>281.41</td>\n",
       "      <td>Drive-thru</td>\n",
       "      <td>Gift Card</td>\n",
       "      <td>Walter Muller</td>\n",
       "      <td>Berlin</td>\n",
       "    </tr>\n",
       "    <tr>\n",
       "      <th>252</th>\n",
       "      <td>10712</td>\n",
       "      <td>29-12-2022</td>\n",
       "      <td>Fries</td>\n",
       "      <td>3.49</td>\n",
       "      <td>630.37</td>\n",
       "      <td>Drive-thru</td>\n",
       "      <td>Gift Card</td>\n",
       "      <td>Walter Muller</td>\n",
       "      <td>Berlin</td>\n",
       "    </tr>\n",
       "    <tr>\n",
       "      <th>253</th>\n",
       "      <td>10713</td>\n",
       "      <td>29-12-2022</td>\n",
       "      <td>Beverages</td>\n",
       "      <td>2.95</td>\n",
       "      <td>677.97</td>\n",
       "      <td>Drive-thru</td>\n",
       "      <td>Gift Card</td>\n",
       "      <td>Walter Muller</td>\n",
       "      <td>Berlin</td>\n",
       "    </tr>\n",
       "  </tbody>\n",
       "</table>\n",
       "</div>"
      ],
      "text/plain": [
       "     Order ID        Date             Product  Price  Quantity Purchase Type  \\\n",
       "249     10709  28-12-2022       Sides & Other   4.99    200.40   Drive-thru    \n",
       "250     10710  29-12-2022             Burgers  12.99    754.43   Drive-thru    \n",
       "251     10711  29-12-2022  Chicken Sandwiches   9.95    281.41   Drive-thru    \n",
       "252     10712  29-12-2022               Fries   3.49    630.37   Drive-thru    \n",
       "253     10713  29-12-2022           Beverages   2.95    677.97   Drive-thru    \n",
       "\n",
       "    Payment Method        Manager    City  \n",
       "249      Gift Card  Walter Muller  Berlin  \n",
       "250      Gift Card  Walter Muller  Berlin  \n",
       "251      Gift Card  Walter Muller  Berlin  \n",
       "252      Gift Card  Walter Muller  Berlin  \n",
       "253      Gift Card  Walter Muller  Berlin  "
      ]
     },
     "execution_count": 95,
     "metadata": {},
     "output_type": "execute_result"
    }
   ],
   "source": [
    "df.tail() # to print last 5 rows of dataframe"
   ]
  },
  {
   "cell_type": "code",
   "execution_count": 96,
   "id": "e942d07f",
   "metadata": {},
   "outputs": [
    {
     "data": {
      "text/html": [
       "<div>\n",
       "<style scoped>\n",
       "    .dataframe tbody tr th:only-of-type {\n",
       "        vertical-align: middle;\n",
       "    }\n",
       "\n",
       "    .dataframe tbody tr th {\n",
       "        vertical-align: top;\n",
       "    }\n",
       "\n",
       "    .dataframe thead th {\n",
       "        text-align: right;\n",
       "    }\n",
       "</style>\n",
       "<table border=\"1\" class=\"dataframe\">\n",
       "  <thead>\n",
       "    <tr style=\"text-align: right;\">\n",
       "      <th></th>\n",
       "      <th>Order ID</th>\n",
       "      <th>Price</th>\n",
       "      <th>Quantity</th>\n",
       "    </tr>\n",
       "  </thead>\n",
       "  <tbody>\n",
       "    <tr>\n",
       "      <th>count</th>\n",
       "      <td>254.000000</td>\n",
       "      <td>254.000000</td>\n",
       "      <td>254.000000</td>\n",
       "    </tr>\n",
       "    <tr>\n",
       "      <th>mean</th>\n",
       "      <td>10584.133858</td>\n",
       "      <td>7.102323</td>\n",
       "      <td>460.611457</td>\n",
       "    </tr>\n",
       "    <tr>\n",
       "      <th>std</th>\n",
       "      <td>75.889181</td>\n",
       "      <td>4.341855</td>\n",
       "      <td>214.888699</td>\n",
       "    </tr>\n",
       "    <tr>\n",
       "      <th>min</th>\n",
       "      <td>10452.000000</td>\n",
       "      <td>2.950000</td>\n",
       "      <td>200.400000</td>\n",
       "    </tr>\n",
       "    <tr>\n",
       "      <th>25%</th>\n",
       "      <td>10520.250000</td>\n",
       "      <td>3.490000</td>\n",
       "      <td>201.010000</td>\n",
       "    </tr>\n",
       "    <tr>\n",
       "      <th>50%</th>\n",
       "      <td>10583.500000</td>\n",
       "      <td>4.990000</td>\n",
       "      <td>538.880000</td>\n",
       "    </tr>\n",
       "    <tr>\n",
       "      <th>75%</th>\n",
       "      <td>10649.750000</td>\n",
       "      <td>9.950000</td>\n",
       "      <td>677.440000</td>\n",
       "    </tr>\n",
       "    <tr>\n",
       "      <th>max</th>\n",
       "      <td>10713.000000</td>\n",
       "      <td>29.050000</td>\n",
       "      <td>754.430000</td>\n",
       "    </tr>\n",
       "  </tbody>\n",
       "</table>\n",
       "</div>"
      ],
      "text/plain": [
       "           Order ID       Price    Quantity\n",
       "count    254.000000  254.000000  254.000000\n",
       "mean   10584.133858    7.102323  460.611457\n",
       "std       75.889181    4.341855  214.888699\n",
       "min    10452.000000    2.950000  200.400000\n",
       "25%    10520.250000    3.490000  201.010000\n",
       "50%    10583.500000    4.990000  538.880000\n",
       "75%    10649.750000    9.950000  677.440000\n",
       "max    10713.000000   29.050000  754.430000"
      ]
     },
     "execution_count": 96,
     "metadata": {},
     "output_type": "execute_result"
    }
   ],
   "source": [
    "df.describe() # to get statistical summary of dataframe"
   ]
  },
  {
   "cell_type": "code",
   "execution_count": 97,
   "id": "bc18222b",
   "metadata": {},
   "outputs": [
    {
     "data": {
      "text/plain": [
       "(254, 9)"
      ]
     },
     "execution_count": 97,
     "metadata": {},
     "output_type": "execute_result"
    }
   ],
   "source": [
    "df.shape # number of rows and columns"
   ]
  },
  {
   "cell_type": "code",
   "execution_count": 98,
   "id": "a7aa6dad",
   "metadata": {},
   "outputs": [
    {
     "data": {
      "text/plain": [
       "Order ID            int64\n",
       "Date               object\n",
       "Product            object\n",
       "Price             float64\n",
       "Quantity          float64\n",
       "Purchase Type      object\n",
       "Payment Method     object\n",
       "Manager            object\n",
       "City               object\n",
       "dtype: object"
      ]
     },
     "execution_count": 98,
     "metadata": {},
     "output_type": "execute_result"
    }
   ],
   "source": [
    "df.dtypes # data types of each column"
   ]
  },
  {
   "cell_type": "code",
   "execution_count": 99,
   "id": "78134ce2",
   "metadata": {},
   "outputs": [
    {
     "data": {
      "text/plain": [
       "RangeIndex(start=0, stop=254, step=1)"
      ]
     },
     "execution_count": 99,
     "metadata": {},
     "output_type": "execute_result"
    }
   ],
   "source": [
    "df.index # index of dataframe"
   ]
  },
  {
   "cell_type": "code",
   "execution_count": 100,
   "id": "2ae1a9f5",
   "metadata": {},
   "outputs": [
    {
     "data": {
      "text/plain": [
       "Index(['Order ID', 'Date', 'Product', 'Price', 'Quantity', 'Purchase Type',\n",
       "       'Payment Method', 'Manager', 'City'],\n",
       "      dtype='object')"
      ]
     },
     "execution_count": 100,
     "metadata": {},
     "output_type": "execute_result"
    }
   ],
   "source": [
    "df.columns # column names of dataframe"
   ]
  },
  {
   "cell_type": "code",
   "execution_count": 101,
   "id": "45f39323",
   "metadata": {},
   "outputs": [
    {
     "data": {
      "text/plain": [
       "Order ID          0\n",
       "Date              0\n",
       "Product           0\n",
       "Price             0\n",
       "Quantity          0\n",
       "Purchase Type     0\n",
       "Payment Method    0\n",
       "Manager           0\n",
       "City              0\n",
       "dtype: int64"
      ]
     },
     "execution_count": 101,
     "metadata": {},
     "output_type": "execute_result"
    }
   ],
   "source": [
    "df.isnull().sum() # check for null values "
   ]
  },
  {
   "cell_type": "code",
   "execution_count": 102,
   "id": "3873fa93",
   "metadata": {},
   "outputs": [
    {
     "data": {
      "text/plain": [
       "Order ID          254\n",
       "Date               53\n",
       "Product             5\n",
       "Price               7\n",
       "Quantity           29\n",
       "Purchase Type       3\n",
       "Payment Method      3\n",
       "Manager            14\n",
       "City                5\n",
       "dtype: int64"
      ]
     },
     "execution_count": 102,
     "metadata": {},
     "output_type": "execute_result"
    }
   ],
   "source": [
    "df.nunique() # number of unique values in each column"
   ]
  },
  {
   "cell_type": "code",
   "execution_count": 103,
   "id": "1e26b79e",
   "metadata": {},
   "outputs": [],
   "source": [
    "# to save dataframe to a new csv file\n",
    "df.to_csv('new_restaurant_sales.csv',index=False) "
   ]
  },
  {
   "cell_type": "code",
   "execution_count": 104,
   "id": "b42ef96e",
   "metadata": {},
   "outputs": [
    {
     "name": "stdout",
     "output_type": "stream",
     "text": [
      "Original Series:\n",
      "a     20\n",
      "b     40\n",
      "c     60\n",
      "d     80\n",
      "e    100\n",
      "dtype: int64\n",
      "\n",
      "Multiply by 3: \n",
      "a     60\n",
      "b    120\n",
      "c    180\n",
      "d    240\n",
      "e    300\n",
      "dtype: int64\n",
      "\n",
      "Add 10: \n",
      "a     30\n",
      "b     50\n",
      "c     70\n",
      "d     90\n",
      "e    110\n",
      "dtype: int64\n"
     ]
    }
   ],
   "source": [
    "#Arithmetic Operations on Series\n",
    "print(\"Original Series:\")\n",
    "print(s)\n",
    "print(\"\\nMultiply by 3: \")\n",
    "print(s*3)\n",
    "print(\"\\nAdd 10: \")   \n",
    "print(s+10)"
   ]
  },
  {
   "cell_type": "code",
   "execution_count": 107,
   "id": "bf741ca8",
   "metadata": {},
   "outputs": [
    {
     "name": "stdout",
     "output_type": "stream",
     "text": [
      "0      London\n",
      "1      Madrid\n",
      "2      Lisbon\n",
      "3      Berlin\n",
      "4      Berlin\n",
      "        ...  \n",
      "249    Berlin\n",
      "250    Berlin\n",
      "251    Berlin\n",
      "252    Berlin\n",
      "253    Berlin\n",
      "Name: City, Length: 254, dtype: object\n",
      "\n",
      "                 Manager    City\n",
      "0      Tom      Jackson  London\n",
      "1           Pablo Perez  Madrid\n",
      "2         Joao    Silva  Lisbon\n",
      "3         Walter Muller  Berlin\n",
      "4         Walter Muller  Berlin\n",
      "..                  ...     ...\n",
      "249       Walter Muller  Berlin\n",
      "250       Walter Muller  Berlin\n",
      "251       Walter Muller  Berlin\n",
      "252       Walter Muller  Berlin\n",
      "253       Walter Muller  Berlin\n",
      "\n",
      "[254 rows x 2 columns]\n"
     ]
    }
   ],
   "source": [
    "#Opeartions on DataFrame\n",
    "print(df[\"City\"]) # to access single column\n",
    "print(\"\\n\",df[[\"Manager\",\"City\"]]) # to access multiple columns"
   ]
  },
  {
   "cell_type": "code",
   "execution_count": 108,
   "id": "e3a59481",
   "metadata": {},
   "outputs": [
    {
     "name": "stdout",
     "output_type": "stream",
     "text": [
      "Order ID                  10454\n",
      "Date                 07-11-2022\n",
      "Product           Sides & Other\n",
      "Price                      4.99\n",
      "Quantity                  200.4\n",
      "Purchase Type         In-store \n",
      "Payment Method        Gift Card\n",
      "Manager           Joao    Silva\n",
      "City                     Lisbon\n",
      "Name: 2, dtype: object\n",
      "\n",
      "    Order ID        Date        Product  Price  Quantity Purchase Type  \\\n",
      "1     10453  07-11-2022      Beverages   2.95    745.76       Online    \n",
      "2     10454  07-11-2022  Sides & Other   4.99    200.40     In-store    \n",
      "3     10455  08-11-2022        Burgers  12.99    569.67     In-store    \n",
      "\n",
      "  Payment Method             Manager    City  \n",
      "1      Gift Card         Pablo Perez  Madrid  \n",
      "2      Gift Card       Joao    Silva  Lisbon  \n",
      "3    Credit Card       Walter Muller  Berlin  \n"
     ]
    }
   ],
   "source": [
    "print(df.iloc[2]) # to access single row by index\n",
    "print(\"\\n\",df.iloc[1:4]) # to access multiple rows by index  "
   ]
  },
  {
   "cell_type": "code",
   "execution_count": 109,
   "id": "c807c1d8",
   "metadata": {},
   "outputs": [
    {
     "data": {
      "text/html": [
       "<div>\n",
       "<style scoped>\n",
       "    .dataframe tbody tr th:only-of-type {\n",
       "        vertical-align: middle;\n",
       "    }\n",
       "\n",
       "    .dataframe tbody tr th {\n",
       "        vertical-align: top;\n",
       "    }\n",
       "\n",
       "    .dataframe thead th {\n",
       "        text-align: right;\n",
       "    }\n",
       "</style>\n",
       "<table border=\"1\" class=\"dataframe\">\n",
       "  <thead>\n",
       "    <tr style=\"text-align: right;\">\n",
       "      <th></th>\n",
       "      <th>Order ID</th>\n",
       "      <th>Date</th>\n",
       "      <th>Product</th>\n",
       "      <th>Price</th>\n",
       "      <th>Quantity</th>\n",
       "      <th>Purchase Type</th>\n",
       "      <th>Payment Method</th>\n",
       "      <th>Manager</th>\n",
       "      <th>City</th>\n",
       "    </tr>\n",
       "  </thead>\n",
       "  <tbody>\n",
       "    <tr>\n",
       "      <th>28</th>\n",
       "      <td>10482</td>\n",
       "      <td>13-11-2022</td>\n",
       "      <td>Fries</td>\n",
       "      <td>25.50</td>\n",
       "      <td>630.37</td>\n",
       "      <td>In-store</td>\n",
       "      <td>Credit Card</td>\n",
       "      <td>Joao Silva</td>\n",
       "      <td>Lisbon</td>\n",
       "    </tr>\n",
       "    <tr>\n",
       "      <th>29</th>\n",
       "      <td>10486</td>\n",
       "      <td>14-11-2022</td>\n",
       "      <td>Chicken Sandwiches</td>\n",
       "      <td>29.05</td>\n",
       "      <td>201.01</td>\n",
       "      <td>In-store</td>\n",
       "      <td>Credit Card</td>\n",
       "      <td>Joao    Silva</td>\n",
       "      <td>Lisbon</td>\n",
       "    </tr>\n",
       "  </tbody>\n",
       "</table>\n",
       "</div>"
      ],
      "text/plain": [
       "    Order ID        Date             Product  Price  Quantity Purchase Type  \\\n",
       "28     10482  13-11-2022               Fries  25.50    630.37     In-store    \n",
       "29     10486  14-11-2022  Chicken Sandwiches  29.05    201.01     In-store    \n",
       "\n",
       "   Payment Method        Manager    City  \n",
       "28    Credit Card     Joao Silva  Lisbon  \n",
       "29    Credit Card  Joao    Silva  Lisbon  "
      ]
     },
     "execution_count": 109,
     "metadata": {},
     "output_type": "execute_result"
    }
   ],
   "source": [
    "df.loc[df[\"Price\"] > 20] # to filter rows based on condition"
   ]
  },
  {
   "cell_type": "code",
   "execution_count": 110,
   "id": "9e6a20e7",
   "metadata": {},
   "outputs": [
    {
     "data": {
      "text/html": [
       "<div>\n",
       "<style scoped>\n",
       "    .dataframe tbody tr th:only-of-type {\n",
       "        vertical-align: middle;\n",
       "    }\n",
       "\n",
       "    .dataframe tbody tr th {\n",
       "        vertical-align: top;\n",
       "    }\n",
       "\n",
       "    .dataframe thead th {\n",
       "        text-align: right;\n",
       "    }\n",
       "</style>\n",
       "<table border=\"1\" class=\"dataframe\">\n",
       "  <thead>\n",
       "    <tr style=\"text-align: right;\">\n",
       "      <th></th>\n",
       "      <th>Order ID</th>\n",
       "      <th>Date</th>\n",
       "      <th>Product</th>\n",
       "      <th>Price</th>\n",
       "      <th>Quantity</th>\n",
       "      <th>Purchase Type</th>\n",
       "      <th>Payment Method</th>\n",
       "      <th>Manager</th>\n",
       "      <th>City</th>\n",
       "    </tr>\n",
       "  </thead>\n",
       "  <tbody>\n",
       "    <tr>\n",
       "      <th>0</th>\n",
       "      <td>10452</td>\n",
       "      <td>07-11-2022</td>\n",
       "      <td>Fries</td>\n",
       "      <td>3.49</td>\n",
       "      <td>573.07</td>\n",
       "      <td>Online</td>\n",
       "      <td>Gift Card</td>\n",
       "      <td>Tom      Jackson</td>\n",
       "      <td>London</td>\n",
       "    </tr>\n",
       "    <tr>\n",
       "      <th>81</th>\n",
       "      <td>10541</td>\n",
       "      <td>25-11-2022</td>\n",
       "      <td>Chicken Sandwiches</td>\n",
       "      <td>9.95</td>\n",
       "      <td>201.01</td>\n",
       "      <td>Drive-thru</td>\n",
       "      <td>Credit Card</td>\n",
       "      <td>Tom Jackson</td>\n",
       "      <td>London</td>\n",
       "    </tr>\n",
       "    <tr>\n",
       "      <th>82</th>\n",
       "      <td>10542</td>\n",
       "      <td>25-11-2022</td>\n",
       "      <td>Fries</td>\n",
       "      <td>3.49</td>\n",
       "      <td>630.37</td>\n",
       "      <td>Drive-thru</td>\n",
       "      <td>Credit Card</td>\n",
       "      <td>Tom Jackson</td>\n",
       "      <td>London</td>\n",
       "    </tr>\n",
       "    <tr>\n",
       "      <th>83</th>\n",
       "      <td>10543</td>\n",
       "      <td>25-11-2022</td>\n",
       "      <td>Beverages</td>\n",
       "      <td>2.95</td>\n",
       "      <td>745.76</td>\n",
       "      <td>Drive-thru</td>\n",
       "      <td>Credit Card</td>\n",
       "      <td>Tom Jackson</td>\n",
       "      <td>London</td>\n",
       "    </tr>\n",
       "    <tr>\n",
       "      <th>84</th>\n",
       "      <td>10544</td>\n",
       "      <td>25-11-2022</td>\n",
       "      <td>Sides &amp; Other</td>\n",
       "      <td>4.99</td>\n",
       "      <td>200.40</td>\n",
       "      <td>Drive-thru</td>\n",
       "      <td>Credit Card</td>\n",
       "      <td>Tom Jackson</td>\n",
       "      <td>London</td>\n",
       "    </tr>\n",
       "    <tr>\n",
       "      <th>...</th>\n",
       "      <td>...</td>\n",
       "      <td>...</td>\n",
       "      <td>...</td>\n",
       "      <td>...</td>\n",
       "      <td>...</td>\n",
       "      <td>...</td>\n",
       "      <td>...</td>\n",
       "      <td>...</td>\n",
       "      <td>...</td>\n",
       "    </tr>\n",
       "    <tr>\n",
       "      <th>163</th>\n",
       "      <td>10623</td>\n",
       "      <td>11-12-2022</td>\n",
       "      <td>Beverages</td>\n",
       "      <td>2.95</td>\n",
       "      <td>745.76</td>\n",
       "      <td>Online</td>\n",
       "      <td>Gift Card</td>\n",
       "      <td>Tom Jackson</td>\n",
       "      <td>London</td>\n",
       "    </tr>\n",
       "    <tr>\n",
       "      <th>164</th>\n",
       "      <td>10624</td>\n",
       "      <td>11-12-2022</td>\n",
       "      <td>Sides &amp; Other</td>\n",
       "      <td>4.99</td>\n",
       "      <td>200.40</td>\n",
       "      <td>Online</td>\n",
       "      <td>Gift Card</td>\n",
       "      <td>Tom Jackson</td>\n",
       "      <td>London</td>\n",
       "    </tr>\n",
       "    <tr>\n",
       "      <th>165</th>\n",
       "      <td>10625</td>\n",
       "      <td>12-12-2022</td>\n",
       "      <td>Burgers</td>\n",
       "      <td>12.99</td>\n",
       "      <td>569.67</td>\n",
       "      <td>Online</td>\n",
       "      <td>Gift Card</td>\n",
       "      <td>Tom Jackson</td>\n",
       "      <td>London</td>\n",
       "    </tr>\n",
       "    <tr>\n",
       "      <th>166</th>\n",
       "      <td>10626</td>\n",
       "      <td>12-12-2022</td>\n",
       "      <td>Chicken Sandwiches</td>\n",
       "      <td>9.95</td>\n",
       "      <td>201.01</td>\n",
       "      <td>Online</td>\n",
       "      <td>Gift Card</td>\n",
       "      <td>Tom Jackson</td>\n",
       "      <td>London</td>\n",
       "    </tr>\n",
       "    <tr>\n",
       "      <th>167</th>\n",
       "      <td>10627</td>\n",
       "      <td>12-12-2022</td>\n",
       "      <td>Fries</td>\n",
       "      <td>3.49</td>\n",
       "      <td>630.37</td>\n",
       "      <td>Online</td>\n",
       "      <td>Gift Card</td>\n",
       "      <td>Tom Jackson</td>\n",
       "      <td>London</td>\n",
       "    </tr>\n",
       "  </tbody>\n",
       "</table>\n",
       "<p>75 rows × 9 columns</p>\n",
       "</div>"
      ],
      "text/plain": [
       "     Order ID        Date             Product  Price  Quantity Purchase Type  \\\n",
       "0       10452  07-11-2022               Fries   3.49    573.07       Online    \n",
       "81      10541  25-11-2022  Chicken Sandwiches   9.95    201.01   Drive-thru    \n",
       "82      10542  25-11-2022               Fries   3.49    630.37   Drive-thru    \n",
       "83      10543  25-11-2022           Beverages   2.95    745.76   Drive-thru    \n",
       "84      10544  25-11-2022       Sides & Other   4.99    200.40   Drive-thru    \n",
       "..        ...         ...                 ...    ...       ...           ...   \n",
       "163     10623  11-12-2022           Beverages   2.95    745.76       Online    \n",
       "164     10624  11-12-2022       Sides & Other   4.99    200.40       Online    \n",
       "165     10625  12-12-2022             Burgers  12.99    569.67       Online    \n",
       "166     10626  12-12-2022  Chicken Sandwiches   9.95    201.01       Online    \n",
       "167     10627  12-12-2022               Fries   3.49    630.37       Online    \n",
       "\n",
       "    Payment Method           Manager    City  \n",
       "0        Gift Card  Tom      Jackson  London  \n",
       "81     Credit Card       Tom Jackson  London  \n",
       "82     Credit Card       Tom Jackson  London  \n",
       "83     Credit Card       Tom Jackson  London  \n",
       "84     Credit Card       Tom Jackson  London  \n",
       "..             ...               ...     ...  \n",
       "163      Gift Card       Tom Jackson  London  \n",
       "164      Gift Card       Tom Jackson  London  \n",
       "165      Gift Card       Tom Jackson  London  \n",
       "166      Gift Card       Tom Jackson  London  \n",
       "167      Gift Card       Tom Jackson  London  \n",
       "\n",
       "[75 rows x 9 columns]"
      ]
     },
     "execution_count": 110,
     "metadata": {},
     "output_type": "execute_result"
    }
   ],
   "source": [
    "df.loc[df['City']=='London'] # to access rows based on condition"
   ]
  },
  {
   "cell_type": "code",
   "execution_count": 111,
   "id": "feccc0ae",
   "metadata": {},
   "outputs": [
    {
     "name": "stdout",
     "output_type": "stream",
     "text": [
      "           Order ID       Price    Quantity\n",
      "count    254.000000  254.000000  254.000000\n",
      "mean   10584.133858    7.102323  460.611457\n",
      "std       75.889181    4.341855  214.888699\n",
      "min    10452.000000    2.950000  200.400000\n",
      "25%    10520.250000    3.490000  201.010000\n",
      "50%    10583.500000    4.990000  538.880000\n",
      "75%    10649.750000    9.950000  677.440000\n",
      "max    10713.000000   29.050000  754.430000\n",
      "\n",
      "Mean: 7.102322834645669\n",
      "\n",
      "Median: 4.99\n",
      "\n",
      "Max Price: 29.05\n",
      "\n",
      "Min Price: 2.95\n",
      "\n",
      "Sum of Price: 1803.99\n",
      "\n",
      "Count of Price: Price\n",
      "12.99    52\n",
      "9.95     51\n",
      "3.49     50\n",
      "2.95     50\n",
      "4.99     49\n",
      "25.50     1\n",
      "29.05     1\n",
      "Name: count, dtype: int64\n"
     ]
    }
   ],
   "source": [
    "print(df.describe()) # to get statistical summary of dataframe\n",
    "print(\"\\nMean:\",df[\"Price\"].mean()) # to get mean of Price column\n",
    "print(\"\\nMedian:\",df[\"Price\"].median()) # to get median of Price column\n",
    "print(\"\\nMax Price:\",df[\"Price\"].max())  # to get max of Price column \n",
    "print(\"\\nMin Price:\",df[\"Price\"].min())  # to get min of Price column\n",
    "print(\"\\nSum of Price:\",df[\"Price\"].sum())  # to get sum of Price column    \n",
    "print(\"\\nCount of Price:\",df[\"Price\"].value_counts())  # to get count of unique values in Price column"
   ]
  }
 ],
 "metadata": {
  "kernelspec": {
   "display_name": "Python 3",
   "language": "python",
   "name": "python3"
  },
  "language_info": {
   "codemirror_mode": {
    "name": "ipython",
    "version": 3
   },
   "file_extension": ".py",
   "mimetype": "text/x-python",
   "name": "python",
   "nbconvert_exporter": "python",
   "pygments_lexer": "ipython3",
   "version": "3.13.7"
  }
 },
 "nbformat": 4,
 "nbformat_minor": 5
}
