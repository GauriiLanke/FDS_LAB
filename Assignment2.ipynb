{
 "cells": [
  {
   "cell_type": "code",
   "execution_count": null,
   "id": "f4fb51a3",
   "metadata": {},
   "outputs": [],
   "source": [
    "#import pandas\n",
    "import pandas as pd"
   ]
  },
  {
   "cell_type": "code",
   "execution_count": 5,
   "id": "54c4ccaa",
   "metadata": {},
   "outputs": [
    {
     "name": "stdout",
     "output_type": "stream",
     "text": [
      "Series data:\n",
      "a     20\n",
      "b     40\n",
      "c     60\n",
      "d     80\n",
      "e    100\n",
      "dtype: int64\n",
      "Access single element: 80\n"
     ]
    }
   ],
   "source": [
    "#creating series\n",
    "s=pd.Series([20,40,60,80,100],index=['a','b','c','d','e'])\n",
    "print(\"Series data:\")\n",
    "print(s)\n",
    "print(\"Access single element:\",s['d'])"
   ]
  },
  {
   "cell_type": "code",
   "execution_count": null,
   "id": "4ab04495",
   "metadata": {},
   "outputs": [
    {
     "data": {
      "text/plain": [
       "pandas.core.series.Series"
      ]
     },
     "execution_count": 7,
     "metadata": {},
     "output_type": "execute_result"
    }
   ],
   "source": [
    "type(s) # to check the type of s"
   ]
  },
  {
   "cell_type": "code",
   "execution_count": 20,
   "id": "d85dbcd3",
   "metadata": {},
   "outputs": [
    {
     "name": "stdout",
     "output_type": "stream",
     "text": [
      "Dataframe data:\n",
      "  Employee  Age  Salary   Location\n",
      "0    Gauri   21   50000  Kopargaon\n",
      "1    Payal   22   60000     Mumbai\n",
      "2  Shreyas   23   55000  Kopargaon\n",
      "3     Urvi   21   52000   Pohegaon\n",
      "4    Parth   22   58000     Shirdi\n",
      "\n",
      "Access single column:\n",
      " 0      Gauri\n",
      "1      Payal\n",
      "2    Shreyas\n",
      "3       Urvi\n",
      "4      Parth\n",
      "Name: Employee, dtype: object\n"
     ]
    }
   ],
   "source": [
    "#creating dataframe\n",
    "df=pd.DataFrame({\n",
    "    'Employee':['Gauri','Payal','Shreyas','Urvi','Parth'],\n",
    "    'Age':[21,22,23,21,22],\n",
    "    'Salary':[50000,60000,55000,52000,58000],\n",
    "    'Location':['Kopargaon','Mumbai','Kopargaon','Pohegaon','Shirdi']\n",
    "})\n",
    "print(\"Dataframe data:\")\n",
    "print(df)\n",
    "print(\"\\nAccess single column:\\n\",df['Employee'])"
   ]
  },
  {
   "cell_type": "code",
   "execution_count": 21,
   "id": "7a52be58",
   "metadata": {},
   "outputs": [
    {
     "data": {
      "text/plain": [
       "pandas.core.frame.DataFrame"
      ]
     },
     "execution_count": 21,
     "metadata": {},
     "output_type": "execute_result"
    }
   ],
   "source": [
    "type(df) # to check the type of df"
   ]
  },
  {
   "cell_type": "code",
   "execution_count": 29,
   "id": "010d9985",
   "metadata": {},
   "outputs": [
    {
     "name": "stdout",
     "output_type": "stream",
     "text": [
      "<class 'pandas.core.frame.DataFrame'>\n",
      "RangeIndex: 254 entries, 0 to 253\n",
      "Data columns (total 9 columns):\n",
      " #   Column          Non-Null Count  Dtype  \n",
      "---  ------          --------------  -----  \n",
      " 0   Order ID        254 non-null    int64  \n",
      " 1   Date            254 non-null    object \n",
      " 2   Product         254 non-null    object \n",
      " 3   Price           254 non-null    float64\n",
      " 4   Quantity        254 non-null    float64\n",
      " 5   Purchase Type   254 non-null    object \n",
      " 6   Payment Method  254 non-null    object \n",
      " 7   Manager         254 non-null    object \n",
      " 8   City            254 non-null    object \n",
      "dtypes: float64(2), int64(1), object(6)\n",
      "memory usage: 18.0+ KB\n",
      "None\n"
     ]
    }
   ],
   "source": [
    "#load dataset\n",
    "df=pd.read_csv('restaurant_sales.csv',header=0)\n",
    "print(df.info()) # to get info about dataframe"
   ]
  },
  {
   "cell_type": "code",
   "execution_count": 30,
   "id": "5fc22f46",
   "metadata": {},
   "outputs": [
    {
     "name": "stdout",
     "output_type": "stream",
     "text": [
      "   Order ID        Date             Product  Price  Quantity Purchase Type  \\\n",
      "0     10452  07-11-2022               Fries   3.49    573.07       Online    \n",
      "1     10453  07-11-2022           Beverages   2.95    745.76       Online    \n",
      "2     10454  07-11-2022       Sides & Other   4.99    200.40     In-store    \n",
      "3     10455  08-11-2022             Burgers  12.99    569.67     In-store    \n",
      "4     10456  08-11-2022  Chicken Sandwiches   9.95    201.01     In-store    \n",
      "\n",
      "  Payment Method             Manager    City  \n",
      "0      Gift Card    Tom      Jackson  London  \n",
      "1      Gift Card         Pablo Perez  Madrid  \n",
      "2      Gift Card       Joao    Silva  Lisbon  \n",
      "3    Credit Card       Walter Muller  Berlin  \n",
      "4    Credit Card       Walter Muller  Berlin  \n"
     ]
    }
   ],
   "source": [
    "print(df.head()) # to print first 5 rows of dataframe"
   ]
  },
  {
   "cell_type": "code",
   "execution_count": 31,
   "id": "a760aa45",
   "metadata": {},
   "outputs": [
    {
     "name": "stdout",
     "output_type": "stream",
     "text": [
      "     Order ID        Date             Product  Price  Quantity Purchase Type  \\\n",
      "249     10709  28-12-2022       Sides & Other   4.99    200.40   Drive-thru    \n",
      "250     10710  29-12-2022             Burgers  12.99    754.43   Drive-thru    \n",
      "251     10711  29-12-2022  Chicken Sandwiches   9.95    281.41   Drive-thru    \n",
      "252     10712  29-12-2022               Fries   3.49    630.37   Drive-thru    \n",
      "253     10713  29-12-2022           Beverages   2.95    677.97   Drive-thru    \n",
      "\n",
      "    Payment Method        Manager    City  \n",
      "249      Gift Card  Walter Muller  Berlin  \n",
      "250      Gift Card  Walter Muller  Berlin  \n",
      "251      Gift Card  Walter Muller  Berlin  \n",
      "252      Gift Card  Walter Muller  Berlin  \n",
      "253      Gift Card  Walter Muller  Berlin  \n"
     ]
    }
   ],
   "source": [
    "print(df.tail()) # to print last 5 rows of dataframe"
   ]
  },
  {
   "cell_type": "code",
   "execution_count": 32,
   "id": "e942d07f",
   "metadata": {},
   "outputs": [
    {
     "data": {
      "text/html": [
       "<div>\n",
       "<style scoped>\n",
       "    .dataframe tbody tr th:only-of-type {\n",
       "        vertical-align: middle;\n",
       "    }\n",
       "\n",
       "    .dataframe tbody tr th {\n",
       "        vertical-align: top;\n",
       "    }\n",
       "\n",
       "    .dataframe thead th {\n",
       "        text-align: right;\n",
       "    }\n",
       "</style>\n",
       "<table border=\"1\" class=\"dataframe\">\n",
       "  <thead>\n",
       "    <tr style=\"text-align: right;\">\n",
       "      <th></th>\n",
       "      <th>Order ID</th>\n",
       "      <th>Price</th>\n",
       "      <th>Quantity</th>\n",
       "    </tr>\n",
       "  </thead>\n",
       "  <tbody>\n",
       "    <tr>\n",
       "      <th>count</th>\n",
       "      <td>254.000000</td>\n",
       "      <td>254.000000</td>\n",
       "      <td>254.000000</td>\n",
       "    </tr>\n",
       "    <tr>\n",
       "      <th>mean</th>\n",
       "      <td>10584.133858</td>\n",
       "      <td>7.102323</td>\n",
       "      <td>460.611457</td>\n",
       "    </tr>\n",
       "    <tr>\n",
       "      <th>std</th>\n",
       "      <td>75.889181</td>\n",
       "      <td>4.341855</td>\n",
       "      <td>214.888699</td>\n",
       "    </tr>\n",
       "    <tr>\n",
       "      <th>min</th>\n",
       "      <td>10452.000000</td>\n",
       "      <td>2.950000</td>\n",
       "      <td>200.400000</td>\n",
       "    </tr>\n",
       "    <tr>\n",
       "      <th>25%</th>\n",
       "      <td>10520.250000</td>\n",
       "      <td>3.490000</td>\n",
       "      <td>201.010000</td>\n",
       "    </tr>\n",
       "    <tr>\n",
       "      <th>50%</th>\n",
       "      <td>10583.500000</td>\n",
       "      <td>4.990000</td>\n",
       "      <td>538.880000</td>\n",
       "    </tr>\n",
       "    <tr>\n",
       "      <th>75%</th>\n",
       "      <td>10649.750000</td>\n",
       "      <td>9.950000</td>\n",
       "      <td>677.440000</td>\n",
       "    </tr>\n",
       "    <tr>\n",
       "      <th>max</th>\n",
       "      <td>10713.000000</td>\n",
       "      <td>29.050000</td>\n",
       "      <td>754.430000</td>\n",
       "    </tr>\n",
       "  </tbody>\n",
       "</table>\n",
       "</div>"
      ],
      "text/plain": [
       "           Order ID       Price    Quantity\n",
       "count    254.000000  254.000000  254.000000\n",
       "mean   10584.133858    7.102323  460.611457\n",
       "std       75.889181    4.341855  214.888699\n",
       "min    10452.000000    2.950000  200.400000\n",
       "25%    10520.250000    3.490000  201.010000\n",
       "50%    10583.500000    4.990000  538.880000\n",
       "75%    10649.750000    9.950000  677.440000\n",
       "max    10713.000000   29.050000  754.430000"
      ]
     },
     "execution_count": 32,
     "metadata": {},
     "output_type": "execute_result"
    }
   ],
   "source": [
    "df.describe() # to get statistical summary of dataframe"
   ]
  },
  {
   "cell_type": "code",
   "execution_count": 33,
   "id": "1e26b79e",
   "metadata": {},
   "outputs": [],
   "source": [
    "# to save dataframe to a new csv file\n",
    "df.to_csv('new_restaurant_sales.csv',index=False) "
   ]
  }
 ],
 "metadata": {
  "kernelspec": {
   "display_name": "Python 3",
   "language": "python",
   "name": "python3"
  },
  "language_info": {
   "codemirror_mode": {
    "name": "ipython",
    "version": 3
   },
   "file_extension": ".py",
   "mimetype": "text/x-python",
   "name": "python",
   "nbconvert_exporter": "python",
   "pygments_lexer": "ipython3",
   "version": "3.13.7"
  }
 },
 "nbformat": 4,
 "nbformat_minor": 5
}
