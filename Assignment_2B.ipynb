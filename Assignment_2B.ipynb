{
 "cells": [
  {
   "cell_type": "code",
   "execution_count": 1,
   "id": "46113fa3",
   "metadata": {},
   "outputs": [],
   "source": [
    "#Assignment 2B\n",
    "#Lanke Gauri 151"
   ]
  },
  {
   "cell_type": "code",
   "execution_count": 2,
   "id": "af9fedaa",
   "metadata": {},
   "outputs": [],
   "source": [
    "import pandas as pd"
   ]
  },
  {
   "cell_type": "code",
   "execution_count": 3,
   "id": "31a924d5",
   "metadata": {},
   "outputs": [
    {
     "data": {
      "text/html": [
       "<div>\n",
       "<style scoped>\n",
       "    .dataframe tbody tr th:only-of-type {\n",
       "        vertical-align: middle;\n",
       "    }\n",
       "\n",
       "    .dataframe tbody tr th {\n",
       "        vertical-align: top;\n",
       "    }\n",
       "\n",
       "    .dataframe thead th {\n",
       "        text-align: right;\n",
       "    }\n",
       "</style>\n",
       "<table border=\"1\" class=\"dataframe\">\n",
       "  <thead>\n",
       "    <tr style=\"text-align: right;\">\n",
       "      <th></th>\n",
       "      <th>EmpID</th>\n",
       "      <th>Name</th>\n",
       "      <th>Age</th>\n",
       "      <th>Gender</th>\n",
       "      <th>Department</th>\n",
       "      <th>Salary</th>\n",
       "      <th>JoiningDate</th>\n",
       "      <th>PerformanceScore</th>\n",
       "      <th>WorkHours</th>\n",
       "    </tr>\n",
       "  </thead>\n",
       "  <tbody>\n",
       "    <tr>\n",
       "      <th>0</th>\n",
       "      <td>1</td>\n",
       "      <td>Employee_1</td>\n",
       "      <td>50</td>\n",
       "      <td>Female</td>\n",
       "      <td>Sales</td>\n",
       "      <td>90000.0</td>\n",
       "      <td>2015-01-01</td>\n",
       "      <td>3.0</td>\n",
       "      <td>43.0</td>\n",
       "    </tr>\n",
       "    <tr>\n",
       "      <th>1</th>\n",
       "      <td>2</td>\n",
       "      <td>Employee_2</td>\n",
       "      <td>36</td>\n",
       "      <td>Male</td>\n",
       "      <td>Finance</td>\n",
       "      <td>62500.0</td>\n",
       "      <td>2015-01-02</td>\n",
       "      <td>2.0</td>\n",
       "      <td>54.0</td>\n",
       "    </tr>\n",
       "    <tr>\n",
       "      <th>2</th>\n",
       "      <td>3</td>\n",
       "      <td>Employee_3</td>\n",
       "      <td>29</td>\n",
       "      <td>Male</td>\n",
       "      <td>Finance</td>\n",
       "      <td>39500.0</td>\n",
       "      <td>2015-01-03</td>\n",
       "      <td>1.0</td>\n",
       "      <td>54.0</td>\n",
       "    </tr>\n",
       "    <tr>\n",
       "      <th>3</th>\n",
       "      <td>4</td>\n",
       "      <td>Employee_4</td>\n",
       "      <td>42</td>\n",
       "      <td>Male</td>\n",
       "      <td>Sales</td>\n",
       "      <td>35000.0</td>\n",
       "      <td>2015-01-04</td>\n",
       "      <td>4.0</td>\n",
       "      <td>37.0</td>\n",
       "    </tr>\n",
       "    <tr>\n",
       "      <th>4</th>\n",
       "      <td>5</td>\n",
       "      <td>Employee_5</td>\n",
       "      <td>40</td>\n",
       "      <td>Male</td>\n",
       "      <td>Finance</td>\n",
       "      <td>41500.0</td>\n",
       "      <td>2015-01-05</td>\n",
       "      <td>4.0</td>\n",
       "      <td>37.0</td>\n",
       "    </tr>\n",
       "  </tbody>\n",
       "</table>\n",
       "</div>"
      ],
      "text/plain": [
       "   EmpID        Name  Age  Gender Department   Salary JoiningDate  \\\n",
       "0      1  Employee_1   50  Female      Sales  90000.0  2015-01-01   \n",
       "1      2  Employee_2   36    Male    Finance  62500.0  2015-01-02   \n",
       "2      3  Employee_3   29    Male    Finance  39500.0  2015-01-03   \n",
       "3      4  Employee_4   42    Male      Sales  35000.0  2015-01-04   \n",
       "4      5  Employee_5   40    Male    Finance  41500.0  2015-01-05   \n",
       "\n",
       "   PerformanceScore  WorkHours  \n",
       "0               3.0       43.0  \n",
       "1               2.0       54.0  \n",
       "2               1.0       54.0  \n",
       "3               4.0       37.0  \n",
       "4               4.0       37.0  "
      ]
     },
     "execution_count": 3,
     "metadata": {},
     "output_type": "execute_result"
    }
   ],
   "source": [
    "# Load the dataset\n",
    "df=pd.read_csv(\"employee_dataset.csv\")\n",
    "df.head() #first 5 rows"
   ]
  },
  {
   "cell_type": "code",
   "execution_count": 4,
   "id": "b1c71c39",
   "metadata": {},
   "outputs": [
    {
     "data": {
      "text/html": [
       "<div>\n",
       "<style scoped>\n",
       "    .dataframe tbody tr th:only-of-type {\n",
       "        vertical-align: middle;\n",
       "    }\n",
       "\n",
       "    .dataframe tbody tr th {\n",
       "        vertical-align: top;\n",
       "    }\n",
       "\n",
       "    .dataframe thead th {\n",
       "        text-align: right;\n",
       "    }\n",
       "</style>\n",
       "<table border=\"1\" class=\"dataframe\">\n",
       "  <thead>\n",
       "    <tr style=\"text-align: right;\">\n",
       "      <th></th>\n",
       "      <th>EmpID</th>\n",
       "      <th>Name</th>\n",
       "      <th>Age</th>\n",
       "      <th>Gender</th>\n",
       "      <th>Department</th>\n",
       "      <th>Salary</th>\n",
       "      <th>JoiningDate</th>\n",
       "      <th>PerformanceScore</th>\n",
       "      <th>WorkHours</th>\n",
       "    </tr>\n",
       "  </thead>\n",
       "  <tbody>\n",
       "    <tr>\n",
       "      <th>995</th>\n",
       "      <td>996</td>\n",
       "      <td>Employee_996</td>\n",
       "      <td>34</td>\n",
       "      <td>Female</td>\n",
       "      <td>HR</td>\n",
       "      <td>31000.0</td>\n",
       "      <td>2017-09-22</td>\n",
       "      <td>2.0</td>\n",
       "      <td>36.0</td>\n",
       "    </tr>\n",
       "    <tr>\n",
       "      <th>996</th>\n",
       "      <td>997</td>\n",
       "      <td>Employee_997</td>\n",
       "      <td>51</td>\n",
       "      <td>Female</td>\n",
       "      <td>IT</td>\n",
       "      <td>56500.0</td>\n",
       "      <td>2017-09-23</td>\n",
       "      <td>1.0</td>\n",
       "      <td>44.0</td>\n",
       "    </tr>\n",
       "    <tr>\n",
       "      <th>997</th>\n",
       "      <td>998</td>\n",
       "      <td>Employee_998</td>\n",
       "      <td>44</td>\n",
       "      <td>Male</td>\n",
       "      <td>Finance</td>\n",
       "      <td>98000.0</td>\n",
       "      <td>2017-09-24</td>\n",
       "      <td>4.0</td>\n",
       "      <td>51.0</td>\n",
       "    </tr>\n",
       "    <tr>\n",
       "      <th>998</th>\n",
       "      <td>999</td>\n",
       "      <td>Employee_999</td>\n",
       "      <td>40</td>\n",
       "      <td>Female</td>\n",
       "      <td>Sales</td>\n",
       "      <td>64500.0</td>\n",
       "      <td>2017-09-25</td>\n",
       "      <td>1.0</td>\n",
       "      <td>53.0</td>\n",
       "    </tr>\n",
       "    <tr>\n",
       "      <th>999</th>\n",
       "      <td>1000</td>\n",
       "      <td>Employee_1000</td>\n",
       "      <td>53</td>\n",
       "      <td>Female</td>\n",
       "      <td>Sales</td>\n",
       "      <td>86000.0</td>\n",
       "      <td>2017-09-26</td>\n",
       "      <td>5.0</td>\n",
       "      <td>40.0</td>\n",
       "    </tr>\n",
       "  </tbody>\n",
       "</table>\n",
       "</div>"
      ],
      "text/plain": [
       "     EmpID           Name  Age  Gender Department   Salary JoiningDate  \\\n",
       "995    996   Employee_996   34  Female         HR  31000.0  2017-09-22   \n",
       "996    997   Employee_997   51  Female         IT  56500.0  2017-09-23   \n",
       "997    998   Employee_998   44    Male    Finance  98000.0  2017-09-24   \n",
       "998    999   Employee_999   40  Female      Sales  64500.0  2017-09-25   \n",
       "999   1000  Employee_1000   53  Female      Sales  86000.0  2017-09-26   \n",
       "\n",
       "     PerformanceScore  WorkHours  \n",
       "995               2.0       36.0  \n",
       "996               1.0       44.0  \n",
       "997               4.0       51.0  \n",
       "998               1.0       53.0  \n",
       "999               5.0       40.0  "
      ]
     },
     "execution_count": 4,
     "metadata": {},
     "output_type": "execute_result"
    }
   ],
   "source": [
    "df.tail() #last 5 rows"
   ]
  },
  {
   "cell_type": "code",
   "execution_count": 5,
   "id": "1b818870",
   "metadata": {},
   "outputs": [
    {
     "name": "stdout",
     "output_type": "stream",
     "text": [
      "<class 'pandas.core.frame.DataFrame'>\n",
      "RangeIndex: 1000 entries, 0 to 999\n",
      "Data columns (total 9 columns):\n",
      " #   Column            Non-Null Count  Dtype  \n",
      "---  ------            --------------  -----  \n",
      " 0   EmpID             1000 non-null   int64  \n",
      " 1   Name              1000 non-null   object \n",
      " 2   Age               1000 non-null   int64  \n",
      " 3   Gender            1000 non-null   object \n",
      " 4   Department        1000 non-null   object \n",
      " 5   Salary            995 non-null    float64\n",
      " 6   JoiningDate       1000 non-null   object \n",
      " 7   PerformanceScore  823 non-null    float64\n",
      " 8   WorkHours         963 non-null    float64\n",
      "dtypes: float64(3), int64(2), object(4)\n",
      "memory usage: 70.4+ KB\n"
     ]
    }
   ],
   "source": [
    "df.info() #info about dataset"
   ]
  },
  {
   "cell_type": "code",
   "execution_count": 6,
   "id": "192af4c6",
   "metadata": {},
   "outputs": [
    {
     "name": "stdout",
     "output_type": "stream",
     "text": [
      "EmpID                 int64\n",
      "Name                 object\n",
      "Age                   int64\n",
      "Gender               object\n",
      "Department           object\n",
      "Salary              float64\n",
      "JoiningDate          object\n",
      "PerformanceScore    float64\n",
      "WorkHours           float64\n",
      "dtype: object\n"
     ]
    }
   ],
   "source": [
    "df['Salary'] = pd.to_numeric(df['Salary'])\n",
    "df['PerformanceScore'] = pd.to_numeric(df['PerformanceScore'])\n",
    "df['WorkHours'] = pd.to_numeric(df['WorkHours'])\n",
    "print(df.dtypes) #data types of each column"
   ]
  },
  {
   "cell_type": "code",
   "execution_count": 7,
   "id": "e0a5564b",
   "metadata": {},
   "outputs": [
    {
     "name": "stdout",
     "output_type": "stream",
     "text": [
      "before NAN filling\n"
     ]
    },
    {
     "data": {
      "text/plain": [
       "EmpID                 0\n",
       "Name                  0\n",
       "Age                   0\n",
       "Gender                0\n",
       "Department            0\n",
       "Salary                5\n",
       "JoiningDate           0\n",
       "PerformanceScore    177\n",
       "WorkHours            37\n",
       "dtype: int64"
      ]
     },
     "execution_count": 7,
     "metadata": {},
     "output_type": "execute_result"
    }
   ],
   "source": [
    "print(\"before NAN filling\")\n",
    "df.isnull().sum()"
   ]
  },
  {
   "cell_type": "code",
   "execution_count": 8,
   "id": "6e43def9",
   "metadata": {},
   "outputs": [
    {
     "name": "stdout",
     "output_type": "stream",
     "text": [
      "after NAN filling\n"
     ]
    },
    {
     "name": "stderr",
     "output_type": "stream",
     "text": [
      "C:\\Users\\SAINATH\\AppData\\Local\\Temp\\ipykernel_96524\\2048120008.py:1: FutureWarning: A value is trying to be set on a copy of a DataFrame or Series through chained assignment using an inplace method.\n",
      "The behavior will change in pandas 3.0. This inplace method will never work because the intermediate object on which we are setting values always behaves as a copy.\n",
      "\n",
      "For example, when doing 'df[col].method(value, inplace=True)', try using 'df.method({col: value}, inplace=True)' or df[col] = df[col].method(value) instead, to perform the operation inplace on the original object.\n",
      "\n",
      "\n",
      "  df[\"WorkHours\"].fillna(df[\"WorkHours\"].mean(),inplace=True) #filling missing values in WorkHours column with mean value of that column\n",
      "C:\\Users\\SAINATH\\AppData\\Local\\Temp\\ipykernel_96524\\2048120008.py:3: FutureWarning: A value is trying to be set on a copy of a DataFrame or Series through chained assignment using an inplace method.\n",
      "The behavior will change in pandas 3.0. This inplace method will never work because the intermediate object on which we are setting values always behaves as a copy.\n",
      "\n",
      "For example, when doing 'df[col].method(value, inplace=True)', try using 'df.method({col: value}, inplace=True)' or df[col] = df[col].method(value) instead, to perform the operation inplace on the original object.\n",
      "\n",
      "\n",
      "  df[\"PerformanceScore\"].fillna(df[\"PerformanceScore\"].median(),inplace=True) #filling missing values in Performance Score column with mean value of that column\n",
      "C:\\Users\\SAINATH\\AppData\\Local\\Temp\\ipykernel_96524\\2048120008.py:5: FutureWarning: A value is trying to be set on a copy of a DataFrame or Series through chained assignment using an inplace method.\n",
      "The behavior will change in pandas 3.0. This inplace method will never work because the intermediate object on which we are setting values always behaves as a copy.\n",
      "\n",
      "For example, when doing 'df[col].method(value, inplace=True)', try using 'df.method({col: value}, inplace=True)' or df[col] = df[col].method(value) instead, to perform the operation inplace on the original object.\n",
      "\n",
      "\n",
      "  df[\"Salary\"].fillna(df[\"Salary\"].mean(),inplace=True) #filling missing values in Salary column with mean value of that column\n"
     ]
    },
    {
     "data": {
      "text/plain": [
       "EmpID               0\n",
       "Name                0\n",
       "Age                 0\n",
       "Gender              0\n",
       "Department          0\n",
       "Salary              0\n",
       "JoiningDate         0\n",
       "PerformanceScore    0\n",
       "WorkHours           0\n",
       "dtype: int64"
      ]
     },
     "execution_count": 8,
     "metadata": {},
     "output_type": "execute_result"
    }
   ],
   "source": [
    "df[\"WorkHours\"].fillna(df[\"WorkHours\"].mean(),inplace=True) #filling missing values in WorkHours column with mean value of that column\n",
    "\n",
    "df[\"PerformanceScore\"].fillna(df[\"PerformanceScore\"].median(),inplace=True) #filling missing values in Performance Score column with mean value of that column\n",
    "\n",
    "df[\"Salary\"].fillna(df[\"Salary\"].mean(),inplace=True) #filling missing values in Salary column with mean value of that column\n",
    "print(\"after NAN filling\")\n",
    "df.isnull().sum()"
   ]
  },
  {
   "cell_type": "code",
   "execution_count": 9,
   "id": "ec933160",
   "metadata": {},
   "outputs": [
    {
     "data": {
      "text/plain": [
       "np.int64(0)"
      ]
     },
     "execution_count": 9,
     "metadata": {},
     "output_type": "execute_result"
    }
   ],
   "source": [
    "df.duplicated().sum()  #checking for duplicate rows"
   ]
  },
  {
   "cell_type": "code",
   "execution_count": 10,
   "id": "f17fb7e4",
   "metadata": {},
   "outputs": [
    {
     "name": "stdout",
     "output_type": "stream",
     "text": [
      "Department\n",
      "Finance      62483.173077\n",
      "HR           64678.213055\n",
      "IT           59035.502959\n",
      "Marketing    63694.335313\n",
      "Sales        62329.769926\n",
      "Name: Salary, dtype: float64\n"
     ]
    }
   ],
   "source": [
    "print(df.groupby(\"Department\")[\"Salary\"].mean()) #average salary by department"
   ]
  },
  {
   "cell_type": "code",
   "execution_count": 11,
   "id": "06888158",
   "metadata": {},
   "outputs": [
    {
     "name": "stdout",
     "output_type": "stream",
     "text": [
      "Gender\n",
      "Female    45.250433\n",
      "Male      45.107924\n",
      "Name: WorkHours, dtype: float64\n"
     ]
    }
   ],
   "source": [
    "print(df.groupby(\"Gender\")[\"WorkHours\"].mean()) #average performance score by"
   ]
  },
  {
   "cell_type": "code",
   "execution_count": 12,
   "id": "7865a51b",
   "metadata": {},
   "outputs": [
    {
     "data": {
      "text/plain": [
       "Department  Age\n",
       "Finance     22     63312.500000\n",
       "            23     70833.333333\n",
       "            24     54750.000000\n",
       "            25     69700.000000\n",
       "            26     73700.000000\n",
       "                       ...     \n",
       "Sales       55     40900.000000\n",
       "            56     59142.857143\n",
       "            57     65857.142857\n",
       "            58     59285.714286\n",
       "            59     67000.000000\n",
       "Name: Salary, Length: 188, dtype: float64"
      ]
     },
     "execution_count": 12,
     "metadata": {},
     "output_type": "execute_result"
    }
   ],
   "source": [
    "df.groupby([\"Department\",\"Age\"])[\"Salary\"].mean() #average salary by department and age"
   ]
  },
  {
   "cell_type": "code",
   "execution_count": 13,
   "id": "04fd20db",
   "metadata": {},
   "outputs": [
    {
     "data": {
      "text/html": [
       "<div>\n",
       "<style scoped>\n",
       "    .dataframe tbody tr th:only-of-type {\n",
       "        vertical-align: middle;\n",
       "    }\n",
       "\n",
       "    .dataframe tbody tr th {\n",
       "        vertical-align: top;\n",
       "    }\n",
       "\n",
       "    .dataframe thead th {\n",
       "        text-align: right;\n",
       "    }\n",
       "</style>\n",
       "<table border=\"1\" class=\"dataframe\">\n",
       "  <thead>\n",
       "    <tr style=\"text-align: right;\">\n",
       "      <th></th>\n",
       "      <th>mean</th>\n",
       "      <th>max</th>\n",
       "      <th>min</th>\n",
       "      <th>count</th>\n",
       "    </tr>\n",
       "    <tr>\n",
       "      <th>Department</th>\n",
       "      <th></th>\n",
       "      <th></th>\n",
       "      <th></th>\n",
       "      <th></th>\n",
       "    </tr>\n",
       "  </thead>\n",
       "  <tbody>\n",
       "    <tr>\n",
       "      <th>Finance</th>\n",
       "      <td>62483.173077</td>\n",
       "      <td>99500.0</td>\n",
       "      <td>25000.0</td>\n",
       "      <td>208</td>\n",
       "    </tr>\n",
       "    <tr>\n",
       "      <th>HR</th>\n",
       "      <td>64678.213055</td>\n",
       "      <td>100000.0</td>\n",
       "      <td>25000.0</td>\n",
       "      <td>191</td>\n",
       "    </tr>\n",
       "    <tr>\n",
       "      <th>IT</th>\n",
       "      <td>59035.502959</td>\n",
       "      <td>97500.0</td>\n",
       "      <td>25000.0</td>\n",
       "      <td>169</td>\n",
       "    </tr>\n",
       "    <tr>\n",
       "      <th>Marketing</th>\n",
       "      <td>63694.335313</td>\n",
       "      <td>100000.0</td>\n",
       "      <td>25000.0</td>\n",
       "      <td>209</td>\n",
       "    </tr>\n",
       "    <tr>\n",
       "      <th>Sales</th>\n",
       "      <td>62329.769926</td>\n",
       "      <td>100000.0</td>\n",
       "      <td>25500.0</td>\n",
       "      <td>223</td>\n",
       "    </tr>\n",
       "  </tbody>\n",
       "</table>\n",
       "</div>"
      ],
      "text/plain": [
       "                    mean       max      min  count\n",
       "Department                                        \n",
       "Finance     62483.173077   99500.0  25000.0    208\n",
       "HR          64678.213055  100000.0  25000.0    191\n",
       "IT          59035.502959   97500.0  25000.0    169\n",
       "Marketing   63694.335313  100000.0  25000.0    209\n",
       "Sales       62329.769926  100000.0  25500.0    223"
      ]
     },
     "execution_count": 13,
     "metadata": {},
     "output_type": "execute_result"
    }
   ],
   "source": [
    "df.groupby('Department')['Salary'].agg(['mean','max','min','count']) #mean, max, min and count of salary by department\n"
   ]
  },
  {
   "cell_type": "code",
   "execution_count": 14,
   "id": "1f571d8f",
   "metadata": {},
   "outputs": [
    {
     "data": {
      "text/html": [
       "<div>\n",
       "<style scoped>\n",
       "    .dataframe tbody tr th:only-of-type {\n",
       "        vertical-align: middle;\n",
       "    }\n",
       "\n",
       "    .dataframe tbody tr th {\n",
       "        vertical-align: top;\n",
       "    }\n",
       "\n",
       "    .dataframe thead th {\n",
       "        text-align: right;\n",
       "    }\n",
       "</style>\n",
       "<table border=\"1\" class=\"dataframe\">\n",
       "  <thead>\n",
       "    <tr style=\"text-align: right;\">\n",
       "      <th></th>\n",
       "      <th>mean</th>\n",
       "      <th>max</th>\n",
       "      <th>min</th>\n",
       "      <th>count</th>\n",
       "    </tr>\n",
       "    <tr>\n",
       "      <th>Department</th>\n",
       "      <th></th>\n",
       "      <th></th>\n",
       "      <th></th>\n",
       "      <th></th>\n",
       "    </tr>\n",
       "  </thead>\n",
       "  <tbody>\n",
       "    <tr>\n",
       "      <th>Finance</th>\n",
       "      <td>2.985577</td>\n",
       "      <td>5.0</td>\n",
       "      <td>1.0</td>\n",
       "      <td>208</td>\n",
       "    </tr>\n",
       "    <tr>\n",
       "      <th>HR</th>\n",
       "      <td>2.963351</td>\n",
       "      <td>5.0</td>\n",
       "      <td>1.0</td>\n",
       "      <td>191</td>\n",
       "    </tr>\n",
       "    <tr>\n",
       "      <th>IT</th>\n",
       "      <td>3.071006</td>\n",
       "      <td>5.0</td>\n",
       "      <td>1.0</td>\n",
       "      <td>169</td>\n",
       "    </tr>\n",
       "    <tr>\n",
       "      <th>Marketing</th>\n",
       "      <td>2.971292</td>\n",
       "      <td>5.0</td>\n",
       "      <td>1.0</td>\n",
       "      <td>209</td>\n",
       "    </tr>\n",
       "    <tr>\n",
       "      <th>Sales</th>\n",
       "      <td>3.035874</td>\n",
       "      <td>5.0</td>\n",
       "      <td>1.0</td>\n",
       "      <td>223</td>\n",
       "    </tr>\n",
       "  </tbody>\n",
       "</table>\n",
       "</div>"
      ],
      "text/plain": [
       "                mean  max  min  count\n",
       "Department                           \n",
       "Finance     2.985577  5.0  1.0    208\n",
       "HR          2.963351  5.0  1.0    191\n",
       "IT          3.071006  5.0  1.0    169\n",
       "Marketing   2.971292  5.0  1.0    209\n",
       "Sales       3.035874  5.0  1.0    223"
      ]
     },
     "execution_count": 14,
     "metadata": {},
     "output_type": "execute_result"
    }
   ],
   "source": [
    "df.groupby('Department')['PerformanceScore'].agg(['mean','max','min','count'])"
   ]
  },
  {
   "cell_type": "code",
   "execution_count": 15,
   "id": "2a54ef48",
   "metadata": {},
   "outputs": [
    {
     "data": {
      "text/plain": [
       "<Axes: ylabel='Frequency'>"
      ]
     },
     "execution_count": 15,
     "metadata": {},
     "output_type": "execute_result"
    },
    {
     "data": {
      "image/png": "[encoded data removed]",
      "text/plain": [
       "<Figure size 640x480 with 1 Axes>"
      ]
     },
     "metadata": {},
     "output_type": "display_data"
    }
   ],
   "source": [
    "df[\"PerformanceScore\"].plot(kind=\"hist\",color=\"purple\") #histogram of salary"
   ]
  },
  {
   "cell_type": "code",
   "execution_count": 16,
   "id": "ae1bf0c9",
   "metadata": {},
   "outputs": [
    {
     "data": {
      "text/plain": [
       "<Axes: >"
      ]
     },
     "execution_count": 16,
     "metadata": {},
     "output_type": "execute_result"
    },
    {
     "data": {
      "image/png": "[encoded data removed]",
      "text/plain": [
       "<Figure size 640x480 with 1 Axes>"
      ]
     },
     "metadata": {},
     "output_type": "display_data"
    }
   ],
   "source": [
    "df[\"Salary\"].plot(kind=\"box\",color=\"green\") #box plot of salary"
   ]
  },
  {
   "cell_type": "code",
   "execution_count": 17,
   "id": "a25b5ce5",
   "metadata": {},
   "outputs": [
    {
     "data": {
      "text/plain": [
       "<Axes: ylabel='Frequency'>"
      ]
     },
     "execution_count": 17,
     "metadata": {},
     "output_type": "execute_result"
    },
    {
     "data": {
      "image/png": "[encoded data removed]",
      "text/plain": [
       "<Figure size 640x480 with 1 Axes>"
      ]
     },
     "metadata": {},
     "output_type": "display_data"
    }
   ],
   "source": [
    "df[\"WorkHours\"].plot(kind=\"hist\",color=\"pink\") #box plot of salary"
   ]
  },
  {
   "cell_type": "code",
   "execution_count": 18,
   "id": "8c832557",
   "metadata": {},
   "outputs": [
    {
     "data": {
      "text/plain": [
       "<Axes: xlabel='Department', ylabel='WorkHours'>"
      ]
     },
     "execution_count": 18,
     "metadata": {},
     "output_type": "execute_result"
    },
    {
     "data": {
      "image/png": "[encoded data removed]",
      "text/plain": [
       "<Figure size 640x480 with 1 Axes>"
      ]
     },
     "metadata": {},
     "output_type": "display_data"
    }
   ],
   "source": [
    "df.plot(kind=\"scatter\",x=\"Department\",y=\"WorkHours\") #scatter plot between salary and performance score"
   ]
  }
 ],
 "metadata": {
  "kernelspec": {
   "display_name": "Python 3",
   "language": "python",
   "name": "python3"
  },
  "language_info": {
   "codemirror_mode": {
    "name": "ipython",
    "version": 3
   },
   "file_extension": ".py",
   "mimetype": "text/x-python",
   "name": "python",
   "nbconvert_exporter": "python",
   "pygments_lexer": "ipython3",
   "version": "3.13.7"
  }
 },
 "nbformat": 4,
 "nbformat_minor": 5
}
