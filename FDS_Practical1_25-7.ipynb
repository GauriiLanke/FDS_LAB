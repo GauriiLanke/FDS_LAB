{
 "cells": [
  {
   "cell_type": "code",
   "execution_count": 1,
   "id": "cc19a2b3",
   "metadata": {},
   "outputs": [
    {
     "name": "stdout",
     "output_type": "stream",
     "text": [
      "2.3.1\n"
     ]
    }
   ],
   "source": [
    "import numpy as np\n",
    "print(np.__version__)"
   ]
  },
  {
   "cell_type": "code",
   "execution_count": null,
   "id": "6ce301d0",
   "metadata": {},
   "outputs": [
    {
     "name": "stdout",
     "output_type": "stream",
     "text": [
      "[0. 0. 0. 0. 0.]\n"
     ]
    },
    {
     "data": {
      "text/plain": [
       "array([0, 0, 0, 0, 0], dtype=int32)"
      ]
     },
     "execution_count": 16,
     "metadata": {},
     "output_type": "execute_result"
    }
   ],
   "source": [
    "import numpy as np\n",
    "arr=np.zeros(5)\n",
    "print(arr)\n",
    "arr.dtype\n",
    "arr.astype(np.int32)"
   ]
  },
  {
   "cell_type": "code",
   "execution_count": 66,
   "id": "24764b78",
   "metadata": {},
   "outputs": [
    {
     "name": "stdout",
     "output_type": "stream",
     "text": [
      "[1 1 1 1 1]\n",
      "int64\n",
      "(5,)\n"
     ]
    }
   ],
   "source": [
    "arr1=np.ones(5,dtype=\"int\")\n",
    "print(arr1)\n",
    "print(arr1.dtype)\n",
    "print(arr1.shape)"
   ]
  },
  {
   "cell_type": "code",
   "execution_count": 67,
   "id": "a1fc6308",
   "metadata": {},
   "outputs": [
    {
     "name": "stdout",
     "output_type": "stream",
     "text": [
      "Array [[ 10   2  30]\n",
      " [  4  50   6]\n",
      " [ 70   8   9]\n",
      " [101  11  12]]\n",
      "Shape (4, 3)\n",
      "datatype int64\n"
     ]
    }
   ],
   "source": [
    "arr=np.array([[10,2,30],[4,50,6],[70,8,9],[101,11,12]])\n",
    "print(\"Array\",arr)\n",
    "print(\"Shape\",arr.shape)\n",
    "print(\"datatype\",arr.dtype)"
   ]
  },
  {
   "cell_type": "code",
   "execution_count": 68,
   "id": "802fc776",
   "metadata": {},
   "outputs": [
    {
     "name": "stdout",
     "output_type": "stream",
     "text": [
      "swapaxes [[ 10   4  70 101]\n",
      " [  2  50   8  11]\n",
      " [ 30   6   9  12]]\n"
     ]
    }
   ],
   "source": [
    "print(\"swapaxes\",np.swapaxes(arr,0,1)) #to interchange the axis, row become column ,column become row"
   ]
  },
  {
   "cell_type": "code",
   "execution_count": 57,
   "id": "f01448a4",
   "metadata": {},
   "outputs": [
    {
     "name": "stdout",
     "output_type": "stream",
     "text": [
      "Reshape array [[ 10   2  30   4]\n",
      " [ 50   6  70   8]\n",
      " [  9 101  11  12]]\n"
     ]
    }
   ],
   "source": [
    "print(\"Reshape array\",arr.reshape(3,4)) #reaarange columns"
   ]
  },
  {
   "cell_type": "code",
   "execution_count": 70,
   "id": "4e75c4e4",
   "metadata": {},
   "outputs": [
    {
     "name": "stdout",
     "output_type": "stream",
     "text": [
      "Sort in axis=0 [[  4   2   6]\n",
      " [ 10   8   9]\n",
      " [ 70  11  12]\n",
      " [101  50  30]]\n",
      "Sort in axis=1 [[  2  10  30]\n",
      " [  4   6  50]\n",
      " [  8   9  70]\n",
      " [ 11  12 101]]\n"
     ]
    }
   ],
   "source": [
    "print(\"Sort in axis=0\",np.sort(arr,axis=0))\n",
    "print(\"Sort in axis=1\",np.sort(arr,axis=1))"
   ]
  },
  {
   "cell_type": "code",
   "execution_count": 59,
   "id": "c136f13c",
   "metadata": {},
   "outputs": [
    {
     "name": "stdout",
     "output_type": "stream",
     "text": [
      "max element 101\n"
     ]
    }
   ],
   "source": [
    "print(\"max element\",np.max(arr)) #gives max element"
   ]
  },
  {
   "cell_type": "code",
   "execution_count": null,
   "id": "c7ef4471",
   "metadata": {},
   "outputs": [
    {
     "data": {
      "text/plain": [
       "array([ 1.  ,  3.25,  5.5 ,  7.75, 10.  ])"
      ]
     },
     "execution_count": 61,
     "metadata": {},
     "output_type": "execute_result"
    }
   ],
   "source": [
    "np.linspace(1,10,num=5) #creating range between array"
   ]
  },
  {
   "cell_type": "code",
   "execution_count": 69,
   "id": "d804aad3",
   "metadata": {},
   "outputs": [
    {
     "name": "stdout",
     "output_type": "stream",
     "text": [
      "[[0 0 0]\n",
      " [0 0 0]\n",
      " [0 0 0]\n",
      " [0 0 0]]\n",
      "(4, 3)\n",
      "Datatype of array int64\n",
      "Size of array 12\n"
     ]
    }
   ],
   "source": [
    "arr1=np.zeros((4,3),dtype=\"int\")\n",
    "print(arr1)\n",
    "print(arr1.shape)\n",
    "print(\"Datatype of array\",arr1.dtype)\n",
    "print(\"Size of array\",arr1.size)\n"
   ]
  }
 ],
 "metadata": {
  "kernelspec": {
   "display_name": "Python 3",
   "language": "python",
   "name": "python3"
  },
  "language_info": {
   "codemirror_mode": {
    "name": "ipython",
    "version": 3
   },
   "file_extension": ".py",
   "mimetype": "text/x-python",
   "name": "python",
   "nbconvert_exporter": "python",
   "pygments_lexer": "ipython3",
   "version": "3.13.5"
  }
 },
 "nbformat": 4,
 "nbformat_minor": 5
}
