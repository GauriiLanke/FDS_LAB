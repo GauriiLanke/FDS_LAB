{
 "cells": [
  {
   "cell_type": "code",
   "execution_count": null,
   "id": "6671b750",
   "metadata": {},
   "outputs": [],
   "source": [
    "# can create array of n dimensional\n",
    "# indexing ,stored in continous order in mry\n",
    "# homogenous data, arange,ndim,reshape creating array with dimensions,shape,size,adding 2 array\n",
    "# image processing,argmax,argmin   1,2,3 d\n",
    "# ?array1   doc string (what it is doing)anything to seacrch"
   ]
  },
  {
   "cell_type": "code",
   "execution_count": 1,
   "id": "7fbcf785",
   "metadata": {},
   "outputs": [],
   "source": [
    "#importing libraries\n",
    "import numpy as np"
   ]
  },
  {
   "cell_type": "code",
   "execution_count": 23,
   "id": "ce870993",
   "metadata": {},
   "outputs": [
    {
     "name": "stdout",
     "output_type": "stream",
     "text": [
      "[29 19 24 10 40]\n",
      "1\n",
      "int64\n",
      "5\n"
     ]
    }
   ],
   "source": [
    "#creating 1D array\n",
    "array1=np.array([29,19,24,10,40])\n",
    "print(array1)\n",
    "print(array1.ndim) #number of dimensions\n",
    "print(array1.dtype) #datatype of array\n",
    "print(array1.size) #size of array"
   ]
  },
  {
   "cell_type": "code",
   "execution_count": 14,
   "id": "90623708",
   "metadata": {},
   "outputs": [
    {
     "name": "stdout",
     "output_type": "stream",
     "text": [
      "[[10 30 50]\n",
      " [20 40 60]]\n",
      "2\n",
      "(2, 3)\n",
      "int64\n",
      "6\n"
     ]
    }
   ],
   "source": [
    "#creating 2D array\n",
    "array2=np.array([[10,30,50],[20,40,60]])\n",
    "print(array2) \n",
    "print(array2.ndim) #number of dimensions\n",
    "print(array2.shape) #shape of array\n",
    "print(array2.dtype) #datatype of array\n",
    "print(array2.size) #size of array"
   ]
  },
  {
   "cell_type": "code",
   "execution_count": 16,
   "id": "b7d2c0f5",
   "metadata": {},
   "outputs": [
    {
     "name": "stdout",
     "output_type": "stream",
     "text": [
      "[[[ 1  2  3]\n",
      "  [ 4  5  6]]\n",
      "\n",
      " [[ 7  8  9]\n",
      "  [10 11 12]]]\n",
      "3\n",
      "(2, 2, 3)\n",
      "int64\n",
      "12\n"
     ]
    }
   ],
   "source": [
    "#creating 3D array\n",
    "array3=np.array([[[1,2,3],[4,5,6]],[[7,8,9],[10,11,12]]])\n",
    "print(array3)\n",
    "print(array3.ndim) #number of dimensions    \n",
    "print(array3.shape) #shape of array\n",
    "print(array3.dtype) #datatype of array\n",
    "print(array3.size) #size of array"
   ]
  },
  {
   "cell_type": "code",
   "execution_count": null,
   "id": "5b86d4bd",
   "metadata": {},
   "outputs": [
    {
     "name": "stdout",
     "output_type": "stream",
     "text": [
      "29\n",
      "40\n",
      "[29 19 24 10 40]\n",
      "[29 19]\n"
     ]
    }
   ],
   "source": [
    "#indexing of array\n",
    "print(array1[0]) #retrieve 1st element\n",
    "print(array1[-1]) #retrieve last element\n",
    "print(array1)\n",
    "print(array1[0:2]) #slicing array\n"
   ]
  },
  {
   "cell_type": "code",
   "execution_count": null,
   "id": "780a40f1",
   "metadata": {},
   "outputs": [
    {
     "name": "stdout",
     "output_type": "stream",
     "text": [
      "[ 1  2  3  4  5  6  7  8  9 10]\n",
      "1\n",
      "10\n",
      "int64\n"
     ]
    }
   ],
   "source": [
    "#creating an array with arange\n",
    "array=np.arange(1,11) #array with values from 1 to 10\n",
    "print(array)\n",
    "print(array.ndim) #number of dimensions\n",
    "print(array.size) #size of array\n",
    "print(array.dtype) #datatype of array"
   ]
  },
  {
   "cell_type": "code",
   "execution_count": 41,
   "id": "5c1b0963",
   "metadata": {},
   "outputs": [
    {
     "name": "stdout",
     "output_type": "stream",
     "text": [
      "[[ 1  2]\n",
      " [ 3  4]\n",
      " [ 5  6]\n",
      " [ 7  8]\n",
      " [ 9 10]]\n",
      "2\n",
      "(5, 2)\n"
     ]
    }
   ],
   "source": [
    "#reshaping array\n",
    "array_re=array.reshape(5,2) #reshaping array to 5 rows and 2 columns\n",
    "print(array_re)\n",
    "print(array_re.ndim) #number of dimensions\n",
    "print(array_re.shape) #shape of array"
   ]
  },
  {
   "cell_type": "code",
   "execution_count": 50,
   "id": "10b4e351",
   "metadata": {},
   "outputs": [
    {
     "name": "stdout",
     "output_type": "stream",
     "text": [
      "Addition [30 60 90]\n",
      "Substraction [-10 -20 -30]\n",
      "Multiplication [ 200  800 1800]\n",
      "Division [0.5 0.5 0.5]\n",
      "Square [7766279631452241920                   0 1152921504606846976]\n",
      "Power [100 400 900]\n"
     ]
    }
   ],
   "source": [
    "#arithmetic operations on arrays\n",
    "x=np.array([10,20,30])\n",
    "y=np.array([20,40,60])\n",
    "print(\"Addition\",x+y) #adding 2 arrays\n",
    "print(\"Substraction\",x-y) #subtracting 2 arrays\n",
    "print(\"Multiplication\",x*y) #multiplying 2 arrays\n",
    "print(\"Division\",x/y) #dividing 2 arrays \n",
    "print(\"Square\",x**y) #square of array elements\n",
    "print(\"Power\",x**2) #power of array elements"
   ]
  },
  {
   "cell_type": "code",
   "execution_count": 54,
   "id": "36ed3f38",
   "metadata": {},
   "outputs": [
    {
     "name": "stdout",
     "output_type": "stream",
     "text": [
      "\u001b[31mType:\u001b[39m        module\n",
      "\u001b[31mString form:\u001b[39m <module 'numpy' from 'c:\\\\Users\\\\SAINATH\\\\AppData\\\\Local\\\\Programs\\\\Python\\\\Python313\\\\Lib\\\\site-packages\\\\numpy\\\\__init__.py'>\n",
      "\u001b[31mFile:\u001b[39m        c:\\users\\sainath\\appdata\\local\\programs\\python\\python313\\lib\\site-packages\\numpy\\__init__.py\n",
      "\u001b[31mDocstring:\u001b[39m  \n",
      "NumPy\n",
      "=====\n",
      "\n",
      "Provides\n",
      "  1. An array object of arbitrary homogeneous items\n",
      "  2. Fast mathematical operations over arrays\n",
      "  3. Linear Algebra, Fourier Transforms, Random Number Generation\n",
      "\n",
      "How to use the documentation\n",
      "----------------------------\n",
      "Documentation is available in two forms: docstrings provided\n",
      "with the code, and a loose standing reference guide, available from\n",
      "`the NumPy homepage <https://numpy.org>`_.\n",
      "\n",
      "We recommend exploring the docstrings using\n",
      "`IPython <https://ipython.org>`_, an advanced Python shell with\n",
      "TAB-completion and introspection capabilities.  See below for further\n",
      "instructions.\n",
      "\n",
      "The docstring examples assume that `numpy` has been imported as ``np``::\n",
      "\n",
      "  >>> import numpy as np\n",
      "\n",
      "Code snippets are indicated by three greater-than signs::\n",
      "\n",
      "  >>> x = 42\n",
      "  >>> x = x + 1\n",
      "\n",
      "Use the built-in ``help`` function to view a function's docstring::\n",
      "\n",
      "  >>> help(np.sort)\n",
      "  ... # doctest: +SKIP\n",
      "\n",
      "For some objects, ``np.info(obj)`` may provide additional help.  This is\n",
      "particularly true if you see the line \"Help on ufunc object:\" at the top\n",
      "of the help() page.  Ufuncs are implemented in C, not Python, for speed.\n",
      "The native Python help() does not know how to view their help, but our\n",
      "np.info() function does.\n",
      "\n",
      "Available subpackages\n",
      "---------------------\n",
      "lib\n",
      "    Basic functions used by several sub-packages.\n",
      "random\n",
      "    Core Random Tools\n",
      "linalg\n",
      "    Core Linear Algebra Tools\n",
      "fft\n",
      "    Core FFT routines\n",
      "polynomial\n",
      "    Polynomial tools\n",
      "testing\n",
      "    NumPy testing tools\n",
      "distutils\n",
      "    Enhancements to distutils with support for\n",
      "    Fortran compilers support and more (for Python <= 3.11)\n",
      "\n",
      "Utilities\n",
      "---------\n",
      "test\n",
      "    Run numpy unittests\n",
      "show_config\n",
      "    Show numpy build configuration\n",
      "__version__\n",
      "    NumPy version string\n",
      "\n",
      "Viewing documentation using IPython\n",
      "-----------------------------------\n",
      "\n",
      "Start IPython and import `numpy` usually under the alias ``np``: `import\n",
      "numpy as np`.  Then, directly past or use the ``%cpaste`` magic to paste\n",
      "examples into the shell.  To see which functions are available in `numpy`,\n",
      "type ``np.<TAB>`` (where ``<TAB>`` refers to the TAB key), or use\n",
      "``np.*cos*?<ENTER>`` (where ``<ENTER>`` refers to the ENTER key) to narrow\n",
      "down the list.  To view the docstring for a function, use\n",
      "``np.cos?<ENTER>`` (to view the docstring) and ``np.cos??<ENTER>`` (to view\n",
      "the source code).\n",
      "\n",
      "Copies vs. in-place operation\n",
      "-----------------------------\n",
      "Most of the functions in `numpy` return a copy of the array argument\n",
      "(e.g., `np.sort`).  In-place versions of these functions are often\n",
      "available as array methods, i.e. ``x = np.array([1,2,3]); x.sort()``.\n",
      "Exceptions to this rule are documented."
     ]
    }
   ],
   "source": [
    "?np"
   ]
  },
  {
   "cell_type": "code",
   "execution_count": 52,
   "id": "4579214d",
   "metadata": {},
   "outputs": [
    {
     "name": "stdout",
     "output_type": "stream",
     "text": [
      "[29 19 24 10 40]\n",
      "40\n",
      "10\n",
      "Index of max value: 4\n",
      "Index of min value: 3\n"
     ]
    }
   ],
   "source": [
    "#use of argmax and argmin\n",
    "print(array1)\n",
    "print(array1.max())  # maximum value in the array\n",
    "print(array1.min())  # minimum value in the array\n",
    "print(\"Index of max value:\", np.argmax(array1))   # index of maximum value\n",
    "print(\"Index of min value:\", np.argmin(array1))   # index of minimum value"
   ]
  },
  {
   "cell_type": "code",
   "execution_count": 45,
   "id": "51d7a988",
   "metadata": {},
   "outputs": [
    {
     "name": "stdout",
     "output_type": "stream",
     "text": [
      "[2 3 4]\n"
     ]
    }
   ],
   "source": [
    "#diff between elements\n",
    "arr = np.array([1, 3, 6, 10])\n",
    "diff_arr = np.diff(arr) #difference between consecutive elements in an array.\n",
    "print(diff_arr) "
   ]
  },
  {
   "cell_type": "code",
   "execution_count": 51,
   "id": "78e72164",
   "metadata": {},
   "outputs": [
    {
     "name": "stdout",
     "output_type": "stream",
     "text": [
      "[1.  1.8 2.6 3.4 4.2 5. ]\n"
     ]
    }
   ],
   "source": [
    "#linespace in array\n",
    "l_arr = np.linspace(1, 5, num=6) #generating evenly spaced values\n",
    "print(l_arr)  \n"
   ]
  },
  {
   "cell_type": "code",
   "execution_count": 53,
   "id": "fe325f8c",
   "metadata": {},
   "outputs": [
    {
     "name": "stdout",
     "output_type": "stream",
     "text": [
      "\u001b[31mType:\u001b[39m        ndarray\n",
      "\u001b[31mString form:\u001b[39m [29 19 24 10 40]\n",
      "\u001b[31mLength:\u001b[39m      5\n",
      "\u001b[31mFile:\u001b[39m        c:\\users\\sainath\\appdata\\local\\programs\\python\\python313\\lib\\site-packages\\numpy\\__init__.py\n",
      "\u001b[31mDocstring:\u001b[39m  \n",
      "ndarray(shape, dtype=float, buffer=None, offset=0,\n",
      "        strides=None, order=None)\n",
      "\n",
      "An array object represents a multidimensional, homogeneous array\n",
      "of fixed-size items.  An associated data-type object describes the\n",
      "format of each element in the array (its byte-order, how many bytes it\n",
      "occupies in memory, whether it is an integer, a floating point number,\n",
      "or something else, etc.)\n",
      "\n",
      "Arrays should be constructed using `array`, `zeros` or `empty` (refer\n",
      "to the See Also section below).  The parameters given here refer to\n",
      "a low-level method (`ndarray(...)`) for instantiating an array.\n",
      "\n",
      "For more information, refer to the `numpy` module and examine the\n",
      "methods and attributes of an array.\n",
      "\n",
      "Parameters\n",
      "----------\n",
      "(for the __new__ method; see Notes below)\n",
      "\n",
      "shape : tuple of ints\n",
      "    Shape of created array.\n",
      "dtype : data-type, optional\n",
      "    Any object that can be interpreted as a numpy data type.\n",
      "buffer : object exposing buffer interface, optional\n",
      "    Used to fill the array with data.\n",
      "offset : int, optional\n",
      "    Offset of array data in buffer.\n",
      "strides : tuple of ints, optional\n",
      "    Strides of data in memory.\n",
      "order : {'C', 'F'}, optional\n",
      "    Row-major (C-style) or column-major (Fortran-style) order.\n",
      "\n",
      "Attributes\n",
      "----------\n",
      "T : ndarray\n",
      "    Transpose of the array.\n",
      "data : buffer\n",
      "    The array's elements, in memory.\n",
      "dtype : dtype object\n",
      "    Describes the format of the elements in the array.\n",
      "flags : dict\n",
      "    Dictionary containing information related to memory use, e.g.,\n",
      "    'C_CONTIGUOUS', 'OWNDATA', 'WRITEABLE', etc.\n",
      "flat : numpy.flatiter object\n",
      "    Flattened version of the array as an iterator.  The iterator\n",
      "    allows assignments, e.g., ``x.flat = 3`` (See `ndarray.flat` for\n",
      "    assignment examples; TODO).\n",
      "imag : ndarray\n",
      "    Imaginary part of the array.\n",
      "real : ndarray\n",
      "    Real part of the array.\n",
      "size : int\n",
      "    Number of elements in the array.\n",
      "itemsize : int\n",
      "    The memory use of each array element in bytes.\n",
      "nbytes : int\n",
      "    The total number of bytes required to store the array data,\n",
      "    i.e., ``itemsize * size``.\n",
      "ndim : int\n",
      "    The array's number of dimensions.\n",
      "shape : tuple of ints\n",
      "    Shape of the array.\n",
      "strides : tuple of ints\n",
      "    The step-size required to move from one element to the next in\n",
      "    memory. For example, a contiguous ``(3, 4)`` array of type\n",
      "    ``int16`` in C-order has strides ``(8, 2)``.  This implies that\n",
      "    to move from element to element in memory requires jumps of 2 bytes.\n",
      "    To move from row-to-row, one needs to jump 8 bytes at a time\n",
      "    (``2 * 4``).\n",
      "ctypes : ctypes object\n",
      "    Class containing properties of the array needed for interaction\n",
      "    with ctypes.\n",
      "base : ndarray\n",
      "    If the array is a view into another array, that array is its `base`\n",
      "    (unless that array is also a view).  The `base` array is where the\n",
      "    array data is actually stored.\n",
      "\n",
      "See Also\n",
      "--------\n",
      "array : Construct an array.\n",
      "zeros : Create an array, each element of which is zero.\n",
      "empty : Create an array, but leave its allocated memory unchanged (i.e.,\n",
      "        it contains \"garbage\").\n",
      "dtype : Create a data-type.\n",
      "numpy.typing.NDArray : An ndarray alias :term:`generic <generic type>`\n",
      "                       w.r.t. its `dtype.type <numpy.dtype.type>`.\n",
      "\n",
      "Notes\n",
      "-----\n",
      "There are two modes of creating an array using ``__new__``:\n",
      "\n",
      "1. If `buffer` is None, then only `shape`, `dtype`, and `order`\n",
      "   are used.\n",
      "2. If `buffer` is an object exposing the buffer interface, then\n",
      "   all keywords are interpreted.\n",
      "\n",
      "No ``__init__`` method is needed because the array is fully initialized\n",
      "after the ``__new__`` method.\n",
      "\n",
      "Examples\n",
      "--------\n",
      "These examples illustrate the low-level `ndarray` constructor.  Refer\n",
      "to the `See Also` section above for easier ways of constructing an\n",
      "ndarray.\n",
      "\n",
      "First mode, `buffer` is None:\n",
      "\n",
      ">>> import numpy as np\n",
      ">>> np.ndarray(shape=(2,2), dtype=float, order='F')\n",
      "array([[0.0e+000, 0.0e+000], # random\n",
      "       [     nan, 2.5e-323]])\n",
      "\n",
      "Second mode:\n",
      "\n",
      ">>> np.ndarray((2,), buffer=np.array([1,2,3]),\n",
      "...            offset=np.int_().itemsize,\n",
      "...            dtype=int) # offset = 1*itemsize, i.e. skip first element\n",
      "array([2, 3])"
     ]
    }
   ],
   "source": [
    "?array1"
   ]
  }
 ],
 "metadata": {
  "kernelspec": {
   "display_name": "Python 3",
   "language": "python",
   "name": "python3"
  },
  "language_info": {
   "codemirror_mode": {
    "name": "ipython",
    "version": 3
   },
   "file_extension": ".py",
   "mimetype": "text/x-python",
   "name": "python",
   "nbconvert_exporter": "python",
   "pygments_lexer": "ipython3",
   "version": "3.13.5"
  }
 },
 "nbformat": 4,
 "nbformat_minor": 5
}
